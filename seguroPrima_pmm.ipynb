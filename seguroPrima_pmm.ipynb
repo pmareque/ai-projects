{
  "cells": [
    {
      "attachments": {},
      "cell_type": "markdown",
      "id": "19609a58-497f-420f-ba73-7659ddc1021b",
      "metadata": {
        "id": "19609a58-497f-420f-ba73-7659ddc1021b"
      },
      "source": [
        "# **Regresión lineal: cálculo de la prima del seguro**\n",
        "\n",
        "Objetivo: Encontrar el mejor modelo de entrenamiento para calcular la prima del seguro. La prima se recoge en una columna llamada **charges** de un dataset con los datos siguientes: edad, sexo, índice de masa corporal, número de hijos, región y si la persona es fumadora o no. **charges** es la columna que se va a **predecir**.\n",
        "\n",
        "Fuente del dataset: Turing, en ~/SHARED/datasets/insurance/insurance.csv\n",
        "\n",
        "### *Paloma Mareque Martínez*\n",
        "---"
      ]
    },
    {
      "cell_type": "markdown",
      "id": "446fadc8-db38-4b51-9f17-c10c3ef2cf72",
      "metadata": {
        "id": "446fadc8-db38-4b51-9f17-c10c3ef2cf72"
      },
      "source": [
        "## Inicio\n",
        "\n",
        "Empezamos importando los módulos necesarios. En primer lugar, vamos a importar algunos módulos comunes, asegurarnos de que MatplotLib traza las figuras correctamente y preparar una función para guardar las figuras. También comprobamos que Python 3.5 o posterior está instalado (aunque Python 2.x puede funcionar, está obsoleto por lo que es **altamente** recomendable utilizar Python 3 en su lugar), así como Scikit-Learn ≥0.20."
      ]
    },
    {
      "cell_type": "code",
      "execution_count": 2,
      "id": "10af97e0-67f2-4df3-85a9-237ed23c5464",
      "metadata": {
        "id": "10af97e0-67f2-4df3-85a9-237ed23c5464"
      },
      "outputs": [],
      "source": [
        "# Se requiere Python ≥ 3.5\n",
        "import sys;\n",
        "assert sys.version_info >= (3, 5);\n",
        "\n",
        "# Se requiere Scikit-Learn ≥ 0.20\n",
        "import sklearn;\n",
        "assert sklearn.__version__ >= \"0.20\";\n",
        "\n",
        "# Otros imports\n",
        "import numpy as np;\n",
        "import os;\n",
        "\n",
        "# la línea que sigue, sólo en Colab ...\n",
        "%matplotlib inline\n",
        "\n",
        "import matplotlib as mpl;\n",
        "import matplotlib.pyplot as plt;\n",
        "\n",
        "# tamaño del texto en las etiquetas por defecto\n",
        "mpl.rc('axes',  labelsize=14);\n",
        "mpl.rc('xtick', labelsize=12);\n",
        "mpl.rc('ytick', labelsize=12);"
      ]
    },
    {
      "cell_type": "markdown",
      "id": "9df4abec-ca1f-40a8-ab8b-af4ade891471",
      "metadata": {
        "id": "9df4abec-ca1f-40a8-ab8b-af4ade891471"
      },
      "source": [
        "## Obteniendo los datos"
      ]
    },
    {
      "cell_type": "markdown",
      "id": "2a9ba809-1cfd-4c6e-8bd1-c7d179d936c1",
      "metadata": {
        "id": "2a9ba809-1cfd-4c6e-8bd1-c7d179d936c1"
      },
      "source": [
        "### Importamos la librería de pandas para leer el fichero *insurance.csv* :"
      ]
    },
    {
      "cell_type": "code",
      "execution_count": 4,
      "id": "z0caPqAjhfA8",
      "metadata": {
        "colab": {
          "base_uri": "https://localhost:8080/"
        },
        "id": "z0caPqAjhfA8",
        "outputId": "b4644747-5f18-458d-b187-bcd375fe279b"
      },
      "outputs": [
        {
          "name": "stdout",
          "output_type": "stream",
          "text": [
            "Mounted at /content/drive\n"
          ]
        }
      ],
      "source": [
        "# solo en Google Colab\n",
        "from google.colab import drive\n",
        "drive.mount('/content/drive')"
      ]
    },
    {
      "cell_type": "code",
      "execution_count": 5,
      "id": "68dc774a-067e-4316-97ac-f59306c7b420",
      "metadata": {
        "colab": {
          "base_uri": "https://localhost:8080/",
          "height": 423
        },
        "id": "68dc774a-067e-4316-97ac-f59306c7b420",
        "outputId": "4e9a7d27-21d2-4589-8a0c-9634a52b7ed8"
      },
      "outputs": [
        {
          "data": {
            "text/html": [
              "\n",
              "  <div id=\"df-46d451a2-5425-4759-94d9-9f40431acb8d\">\n",
              "    <div class=\"colab-df-container\">\n",
              "      <div>\n",
              "<style scoped>\n",
              "    .dataframe tbody tr th:only-of-type {\n",
              "        vertical-align: middle;\n",
              "    }\n",
              "\n",
              "    .dataframe tbody tr th {\n",
              "        vertical-align: top;\n",
              "    }\n",
              "\n",
              "    .dataframe thead th {\n",
              "        text-align: right;\n",
              "    }\n",
              "</style>\n",
              "<table border=\"1\" class=\"dataframe\">\n",
              "  <thead>\n",
              "    <tr style=\"text-align: right;\">\n",
              "      <th></th>\n",
              "      <th>age</th>\n",
              "      <th>sex</th>\n",
              "      <th>bmi</th>\n",
              "      <th>children</th>\n",
              "      <th>smoker</th>\n",
              "      <th>region</th>\n",
              "      <th>charges</th>\n",
              "    </tr>\n",
              "  </thead>\n",
              "  <tbody>\n",
              "    <tr>\n",
              "      <th>0</th>\n",
              "      <td>19.0</td>\n",
              "      <td>female</td>\n",
              "      <td>27.900</td>\n",
              "      <td>0</td>\n",
              "      <td>yes</td>\n",
              "      <td>southwest</td>\n",
              "      <td>16884.92400</td>\n",
              "    </tr>\n",
              "    <tr>\n",
              "      <th>1</th>\n",
              "      <td>18.0</td>\n",
              "      <td>male</td>\n",
              "      <td>33.770</td>\n",
              "      <td>1</td>\n",
              "      <td>no</td>\n",
              "      <td>southeast</td>\n",
              "      <td>1725.55230</td>\n",
              "    </tr>\n",
              "    <tr>\n",
              "      <th>2</th>\n",
              "      <td>28.0</td>\n",
              "      <td>male</td>\n",
              "      <td>33.000</td>\n",
              "      <td>3</td>\n",
              "      <td>no</td>\n",
              "      <td>southeast</td>\n",
              "      <td>4449.46200</td>\n",
              "    </tr>\n",
              "    <tr>\n",
              "      <th>3</th>\n",
              "      <td>33.0</td>\n",
              "      <td>male</td>\n",
              "      <td>22.705</td>\n",
              "      <td>0</td>\n",
              "      <td>no</td>\n",
              "      <td>northwest</td>\n",
              "      <td>21984.47061</td>\n",
              "    </tr>\n",
              "    <tr>\n",
              "      <th>4</th>\n",
              "      <td>32.0</td>\n",
              "      <td>male</td>\n",
              "      <td>28.880</td>\n",
              "      <td>0</td>\n",
              "      <td>no</td>\n",
              "      <td>northwest</td>\n",
              "      <td>3866.85520</td>\n",
              "    </tr>\n",
              "    <tr>\n",
              "      <th>...</th>\n",
              "      <td>...</td>\n",
              "      <td>...</td>\n",
              "      <td>...</td>\n",
              "      <td>...</td>\n",
              "      <td>...</td>\n",
              "      <td>...</td>\n",
              "      <td>...</td>\n",
              "    </tr>\n",
              "    <tr>\n",
              "      <th>1333</th>\n",
              "      <td>50.0</td>\n",
              "      <td>male</td>\n",
              "      <td>30.970</td>\n",
              "      <td>3</td>\n",
              "      <td>no</td>\n",
              "      <td>northwest</td>\n",
              "      <td>10600.54830</td>\n",
              "    </tr>\n",
              "    <tr>\n",
              "      <th>1334</th>\n",
              "      <td>18.0</td>\n",
              "      <td>female</td>\n",
              "      <td>31.920</td>\n",
              "      <td>0</td>\n",
              "      <td>no</td>\n",
              "      <td>northeast</td>\n",
              "      <td>2205.98080</td>\n",
              "    </tr>\n",
              "    <tr>\n",
              "      <th>1335</th>\n",
              "      <td>18.0</td>\n",
              "      <td>female</td>\n",
              "      <td>36.850</td>\n",
              "      <td>0</td>\n",
              "      <td>no</td>\n",
              "      <td>southeast</td>\n",
              "      <td>1629.83350</td>\n",
              "    </tr>\n",
              "    <tr>\n",
              "      <th>1336</th>\n",
              "      <td>21.0</td>\n",
              "      <td>female</td>\n",
              "      <td>25.800</td>\n",
              "      <td>0</td>\n",
              "      <td>no</td>\n",
              "      <td>southwest</td>\n",
              "      <td>2007.94500</td>\n",
              "    </tr>\n",
              "    <tr>\n",
              "      <th>1337</th>\n",
              "      <td>61.0</td>\n",
              "      <td>female</td>\n",
              "      <td>NaN</td>\n",
              "      <td>0</td>\n",
              "      <td>yes</td>\n",
              "      <td>northwest</td>\n",
              "      <td>29141.36030</td>\n",
              "    </tr>\n",
              "  </tbody>\n",
              "</table>\n",
              "<p>1338 rows × 7 columns</p>\n",
              "</div>\n",
              "      <button class=\"colab-df-convert\" onclick=\"convertToInteractive('df-46d451a2-5425-4759-94d9-9f40431acb8d')\"\n",
              "              title=\"Convert this dataframe to an interactive table.\"\n",
              "              style=\"display:none;\">\n",
              "        \n",
              "  <svg xmlns=\"http://www.w3.org/2000/svg\" height=\"24px\"viewBox=\"0 0 24 24\"\n",
              "       width=\"24px\">\n",
              "    <path d=\"M0 0h24v24H0V0z\" fill=\"none\"/>\n",
              "    <path d=\"M18.56 5.44l.94 2.06.94-2.06 2.06-.94-2.06-.94-.94-2.06-.94 2.06-2.06.94zm-11 1L8.5 8.5l.94-2.06 2.06-.94-2.06-.94L8.5 2.5l-.94 2.06-2.06.94zm10 10l.94 2.06.94-2.06 2.06-.94-2.06-.94-.94-2.06-.94 2.06-2.06.94z\"/><path d=\"M17.41 7.96l-1.37-1.37c-.4-.4-.92-.59-1.43-.59-.52 0-1.04.2-1.43.59L10.3 9.45l-7.72 7.72c-.78.78-.78 2.05 0 2.83L4 21.41c.39.39.9.59 1.41.59.51 0 1.02-.2 1.41-.59l7.78-7.78 2.81-2.81c.8-.78.8-2.07 0-2.86zM5.41 20L4 18.59l7.72-7.72 1.47 1.35L5.41 20z\"/>\n",
              "  </svg>\n",
              "      </button>\n",
              "      \n",
              "  <style>\n",
              "    .colab-df-container {\n",
              "      display:flex;\n",
              "      flex-wrap:wrap;\n",
              "      gap: 12px;\n",
              "    }\n",
              "\n",
              "    .colab-df-convert {\n",
              "      background-color: #E8F0FE;\n",
              "      border: none;\n",
              "      border-radius: 50%;\n",
              "      cursor: pointer;\n",
              "      display: none;\n",
              "      fill: #1967D2;\n",
              "      height: 32px;\n",
              "      padding: 0 0 0 0;\n",
              "      width: 32px;\n",
              "    }\n",
              "\n",
              "    .colab-df-convert:hover {\n",
              "      background-color: #E2EBFA;\n",
              "      box-shadow: 0px 1px 2px rgba(60, 64, 67, 0.3), 0px 1px 3px 1px rgba(60, 64, 67, 0.15);\n",
              "      fill: #174EA6;\n",
              "    }\n",
              "\n",
              "    [theme=dark] .colab-df-convert {\n",
              "      background-color: #3B4455;\n",
              "      fill: #D2E3FC;\n",
              "    }\n",
              "\n",
              "    [theme=dark] .colab-df-convert:hover {\n",
              "      background-color: #434B5C;\n",
              "      box-shadow: 0px 1px 3px 1px rgba(0, 0, 0, 0.15);\n",
              "      filter: drop-shadow(0px 1px 2px rgba(0, 0, 0, 0.3));\n",
              "      fill: #FFFFFF;\n",
              "    }\n",
              "  </style>\n",
              "\n",
              "      <script>\n",
              "        const buttonEl =\n",
              "          document.querySelector('#df-46d451a2-5425-4759-94d9-9f40431acb8d button.colab-df-convert');\n",
              "        buttonEl.style.display =\n",
              "          google.colab.kernel.accessAllowed ? 'block' : 'none';\n",
              "\n",
              "        async function convertToInteractive(key) {\n",
              "          const element = document.querySelector('#df-46d451a2-5425-4759-94d9-9f40431acb8d');\n",
              "          const dataTable =\n",
              "            await google.colab.kernel.invokeFunction('convertToInteractive',\n",
              "                                                     [key], {});\n",
              "          if (!dataTable) return;\n",
              "\n",
              "          const docLinkHtml = 'Like what you see? Visit the ' +\n",
              "            '<a target=\"_blank\" href=https://colab.research.google.com/notebooks/data_table.ipynb>data table notebook</a>'\n",
              "            + ' to learn more about interactive tables.';\n",
              "          element.innerHTML = '';\n",
              "          dataTable['output_type'] = 'display_data';\n",
              "          await google.colab.output.renderOutput(dataTable, element);\n",
              "          const docLink = document.createElement('div');\n",
              "          docLink.innerHTML = docLinkHtml;\n",
              "          element.appendChild(docLink);\n",
              "        }\n",
              "      </script>\n",
              "    </div>\n",
              "  </div>\n",
              "  "
            ],
            "text/plain": [
              "       age     sex     bmi  children smoker     region      charges\n",
              "0     19.0  female  27.900         0    yes  southwest  16884.92400\n",
              "1     18.0    male  33.770         1     no  southeast   1725.55230\n",
              "2     28.0    male  33.000         3     no  southeast   4449.46200\n",
              "3     33.0    male  22.705         0     no  northwest  21984.47061\n",
              "4     32.0    male  28.880         0     no  northwest   3866.85520\n",
              "...    ...     ...     ...       ...    ...        ...          ...\n",
              "1333  50.0    male  30.970         3     no  northwest  10600.54830\n",
              "1334  18.0  female  31.920         0     no  northeast   2205.98080\n",
              "1335  18.0  female  36.850         0     no  southeast   1629.83350\n",
              "1336  21.0  female  25.800         0     no  southwest   2007.94500\n",
              "1337  61.0  female     NaN         0    yes  northwest  29141.36030\n",
              "\n",
              "[1338 rows x 7 columns]"
            ]
          },
          "execution_count": 5,
          "metadata": {},
          "output_type": "execute_result"
        }
      ],
      "source": [
        "import pandas as pd;\n",
        "\n",
        "# se lee el fichero csv\n",
        "# ruta para trabajar en colab ->/content/drive/MyDrive/Colab Notebooks/SAA/seguros/insurance.csv\n",
        "seguro = pd.read_csv(\"/content/drive/MyDrive/Colab Notebooks/SAA/seguros/insurance.csv\");\n",
        "seguro"
      ]
    },
    {
      "cell_type": "markdown",
      "id": "3d0dbe55-d3a6-42a9-9559-48d0729e969f",
      "metadata": {
        "id": "3d0dbe55-d3a6-42a9-9559-48d0729e969f"
      },
      "source": [
        "### Podemos visualizar las 5 primeras filas de datos con *head()*"
      ]
    },
    {
      "cell_type": "code",
      "execution_count": null,
      "id": "b224ce56-2e67-43a1-8c5f-7a20c89d7ebc",
      "metadata": {
        "colab": {
          "base_uri": "https://localhost:8080/",
          "height": 206
        },
        "id": "b224ce56-2e67-43a1-8c5f-7a20c89d7ebc",
        "outputId": "b464db45-4dc3-4875-c805-c8036769d33f"
      },
      "outputs": [
        {
          "data": {
            "text/html": [
              "\n",
              "  <div id=\"df-7f28d1d1-3328-4d2e-a184-f8f6cc40f260\">\n",
              "    <div class=\"colab-df-container\">\n",
              "      <div>\n",
              "<style scoped>\n",
              "    .dataframe tbody tr th:only-of-type {\n",
              "        vertical-align: middle;\n",
              "    }\n",
              "\n",
              "    .dataframe tbody tr th {\n",
              "        vertical-align: top;\n",
              "    }\n",
              "\n",
              "    .dataframe thead th {\n",
              "        text-align: right;\n",
              "    }\n",
              "</style>\n",
              "<table border=\"1\" class=\"dataframe\">\n",
              "  <thead>\n",
              "    <tr style=\"text-align: right;\">\n",
              "      <th></th>\n",
              "      <th>age</th>\n",
              "      <th>sex</th>\n",
              "      <th>bmi</th>\n",
              "      <th>children</th>\n",
              "      <th>smoker</th>\n",
              "      <th>region</th>\n",
              "      <th>charges</th>\n",
              "    </tr>\n",
              "  </thead>\n",
              "  <tbody>\n",
              "    <tr>\n",
              "      <th>0</th>\n",
              "      <td>19.0</td>\n",
              "      <td>female</td>\n",
              "      <td>27.900</td>\n",
              "      <td>0</td>\n",
              "      <td>yes</td>\n",
              "      <td>southwest</td>\n",
              "      <td>16884.92400</td>\n",
              "    </tr>\n",
              "    <tr>\n",
              "      <th>1</th>\n",
              "      <td>18.0</td>\n",
              "      <td>male</td>\n",
              "      <td>33.770</td>\n",
              "      <td>1</td>\n",
              "      <td>no</td>\n",
              "      <td>southeast</td>\n",
              "      <td>1725.55230</td>\n",
              "    </tr>\n",
              "    <tr>\n",
              "      <th>2</th>\n",
              "      <td>28.0</td>\n",
              "      <td>male</td>\n",
              "      <td>33.000</td>\n",
              "      <td>3</td>\n",
              "      <td>no</td>\n",
              "      <td>southeast</td>\n",
              "      <td>4449.46200</td>\n",
              "    </tr>\n",
              "    <tr>\n",
              "      <th>3</th>\n",
              "      <td>33.0</td>\n",
              "      <td>male</td>\n",
              "      <td>22.705</td>\n",
              "      <td>0</td>\n",
              "      <td>no</td>\n",
              "      <td>northwest</td>\n",
              "      <td>21984.47061</td>\n",
              "    </tr>\n",
              "    <tr>\n",
              "      <th>4</th>\n",
              "      <td>32.0</td>\n",
              "      <td>male</td>\n",
              "      <td>28.880</td>\n",
              "      <td>0</td>\n",
              "      <td>no</td>\n",
              "      <td>northwest</td>\n",
              "      <td>3866.85520</td>\n",
              "    </tr>\n",
              "  </tbody>\n",
              "</table>\n",
              "</div>\n",
              "      <button class=\"colab-df-convert\" onclick=\"convertToInteractive('df-7f28d1d1-3328-4d2e-a184-f8f6cc40f260')\"\n",
              "              title=\"Convert this dataframe to an interactive table.\"\n",
              "              style=\"display:none;\">\n",
              "        \n",
              "  <svg xmlns=\"http://www.w3.org/2000/svg\" height=\"24px\"viewBox=\"0 0 24 24\"\n",
              "       width=\"24px\">\n",
              "    <path d=\"M0 0h24v24H0V0z\" fill=\"none\"/>\n",
              "    <path d=\"M18.56 5.44l.94 2.06.94-2.06 2.06-.94-2.06-.94-.94-2.06-.94 2.06-2.06.94zm-11 1L8.5 8.5l.94-2.06 2.06-.94-2.06-.94L8.5 2.5l-.94 2.06-2.06.94zm10 10l.94 2.06.94-2.06 2.06-.94-2.06-.94-.94-2.06-.94 2.06-2.06.94z\"/><path d=\"M17.41 7.96l-1.37-1.37c-.4-.4-.92-.59-1.43-.59-.52 0-1.04.2-1.43.59L10.3 9.45l-7.72 7.72c-.78.78-.78 2.05 0 2.83L4 21.41c.39.39.9.59 1.41.59.51 0 1.02-.2 1.41-.59l7.78-7.78 2.81-2.81c.8-.78.8-2.07 0-2.86zM5.41 20L4 18.59l7.72-7.72 1.47 1.35L5.41 20z\"/>\n",
              "  </svg>\n",
              "      </button>\n",
              "      \n",
              "  <style>\n",
              "    .colab-df-container {\n",
              "      display:flex;\n",
              "      flex-wrap:wrap;\n",
              "      gap: 12px;\n",
              "    }\n",
              "\n",
              "    .colab-df-convert {\n",
              "      background-color: #E8F0FE;\n",
              "      border: none;\n",
              "      border-radius: 50%;\n",
              "      cursor: pointer;\n",
              "      display: none;\n",
              "      fill: #1967D2;\n",
              "      height: 32px;\n",
              "      padding: 0 0 0 0;\n",
              "      width: 32px;\n",
              "    }\n",
              "\n",
              "    .colab-df-convert:hover {\n",
              "      background-color: #E2EBFA;\n",
              "      box-shadow: 0px 1px 2px rgba(60, 64, 67, 0.3), 0px 1px 3px 1px rgba(60, 64, 67, 0.15);\n",
              "      fill: #174EA6;\n",
              "    }\n",
              "\n",
              "    [theme=dark] .colab-df-convert {\n",
              "      background-color: #3B4455;\n",
              "      fill: #D2E3FC;\n",
              "    }\n",
              "\n",
              "    [theme=dark] .colab-df-convert:hover {\n",
              "      background-color: #434B5C;\n",
              "      box-shadow: 0px 1px 3px 1px rgba(0, 0, 0, 0.15);\n",
              "      filter: drop-shadow(0px 1px 2px rgba(0, 0, 0, 0.3));\n",
              "      fill: #FFFFFF;\n",
              "    }\n",
              "  </style>\n",
              "\n",
              "      <script>\n",
              "        const buttonEl =\n",
              "          document.querySelector('#df-7f28d1d1-3328-4d2e-a184-f8f6cc40f260 button.colab-df-convert');\n",
              "        buttonEl.style.display =\n",
              "          google.colab.kernel.accessAllowed ? 'block' : 'none';\n",
              "\n",
              "        async function convertToInteractive(key) {\n",
              "          const element = document.querySelector('#df-7f28d1d1-3328-4d2e-a184-f8f6cc40f260');\n",
              "          const dataTable =\n",
              "            await google.colab.kernel.invokeFunction('convertToInteractive',\n",
              "                                                     [key], {});\n",
              "          if (!dataTable) return;\n",
              "\n",
              "          const docLinkHtml = 'Like what you see? Visit the ' +\n",
              "            '<a target=\"_blank\" href=https://colab.research.google.com/notebooks/data_table.ipynb>data table notebook</a>'\n",
              "            + ' to learn more about interactive tables.';\n",
              "          element.innerHTML = '';\n",
              "          dataTable['output_type'] = 'display_data';\n",
              "          await google.colab.output.renderOutput(dataTable, element);\n",
              "          const docLink = document.createElement('div');\n",
              "          docLink.innerHTML = docLinkHtml;\n",
              "          element.appendChild(docLink);\n",
              "        }\n",
              "      </script>\n",
              "    </div>\n",
              "  </div>\n",
              "  "
            ],
            "text/plain": [
              "    age     sex     bmi  children smoker     region      charges\n",
              "0  19.0  female  27.900         0    yes  southwest  16884.92400\n",
              "1  18.0    male  33.770         1     no  southeast   1725.55230\n",
              "2  28.0    male  33.000         3     no  southeast   4449.46200\n",
              "3  33.0    male  22.705         0     no  northwest  21984.47061\n",
              "4  32.0    male  28.880         0     no  northwest   3866.85520"
            ]
          },
          "execution_count": 130,
          "metadata": {},
          "output_type": "execute_result"
        }
      ],
      "source": [
        "seguro.head()"
      ]
    },
    {
      "cell_type": "markdown",
      "id": "a78a3d51-eaab-409f-80de-1af6b5bd32e8",
      "metadata": {
        "id": "a78a3d51-eaab-409f-80de-1af6b5bd32e8"
      },
      "source": [
        "### Información del dataset\n",
        "\n",
        "Hay 1338 filas de datos de 3 tipos:\n",
        "- float64\n",
        "- int64\n",
        "- object\n",
        "\n",
        "Las columnas **age**(edad), **bmi** (índice masa corporal) y **smoker**(persona fumadora) tienen **valores nulos**. Por ello más adelante vamos a limpiar los datos."
      ]
    },
    {
      "cell_type": "code",
      "execution_count": null,
      "id": "a4f458ab-f98f-48bd-bf3f-517b5394a6f2",
      "metadata": {
        "colab": {
          "base_uri": "https://localhost:8080/"
        },
        "id": "a4f458ab-f98f-48bd-bf3f-517b5394a6f2",
        "outputId": "ee8b6648-289f-45bd-a93c-e6f8484567c5"
      },
      "outputs": [
        {
          "name": "stdout",
          "output_type": "stream",
          "text": [
            "<class 'pandas.core.frame.DataFrame'>\n",
            "RangeIndex: 1338 entries, 0 to 1337\n",
            "Data columns (total 7 columns):\n",
            " #   Column    Non-Null Count  Dtype  \n",
            "---  ------    --------------  -----  \n",
            " 0   age       1337 non-null   float64\n",
            " 1   sex       1338 non-null   object \n",
            " 2   bmi       1337 non-null   float64\n",
            " 3   children  1338 non-null   int64  \n",
            " 4   smoker    1337 non-null   object \n",
            " 5   region    1338 non-null   object \n",
            " 6   charges   1338 non-null   float64\n",
            "dtypes: float64(3), int64(1), object(3)\n",
            "memory usage: 73.3+ KB\n"
          ]
        }
      ],
      "source": [
        "seguro.info()"
      ]
    },
    {
      "cell_type": "markdown",
      "id": "8854e5bc-b280-4cdd-879f-17a70a4faed2",
      "metadata": {
        "id": "8854e5bc-b280-4cdd-879f-17a70a4faed2"
      },
      "source": [
        "#### El método *describe()* realiza un análisis estadístico de los datos: media, desviación típica(std), cuartiles, datos mínimos y máximos."
      ]
    },
    {
      "cell_type": "code",
      "execution_count": null,
      "id": "e0bf10ee-b360-4093-bd1b-8e3a4bd2fb9e",
      "metadata": {
        "colab": {
          "base_uri": "https://localhost:8080/",
          "height": 300
        },
        "id": "e0bf10ee-b360-4093-bd1b-8e3a4bd2fb9e",
        "outputId": "4ee5229d-ac9a-462c-81ea-391d8a2536a4"
      },
      "outputs": [
        {
          "data": {
            "text/html": [
              "\n",
              "  <div id=\"df-9789d533-17ec-4b47-ab86-600408cc3b44\">\n",
              "    <div class=\"colab-df-container\">\n",
              "      <div>\n",
              "<style scoped>\n",
              "    .dataframe tbody tr th:only-of-type {\n",
              "        vertical-align: middle;\n",
              "    }\n",
              "\n",
              "    .dataframe tbody tr th {\n",
              "        vertical-align: top;\n",
              "    }\n",
              "\n",
              "    .dataframe thead th {\n",
              "        text-align: right;\n",
              "    }\n",
              "</style>\n",
              "<table border=\"1\" class=\"dataframe\">\n",
              "  <thead>\n",
              "    <tr style=\"text-align: right;\">\n",
              "      <th></th>\n",
              "      <th>age</th>\n",
              "      <th>bmi</th>\n",
              "      <th>children</th>\n",
              "      <th>charges</th>\n",
              "    </tr>\n",
              "  </thead>\n",
              "  <tbody>\n",
              "    <tr>\n",
              "      <th>count</th>\n",
              "      <td>1337.000000</td>\n",
              "      <td>1337.000000</td>\n",
              "      <td>1338.000000</td>\n",
              "      <td>1338.000000</td>\n",
              "    </tr>\n",
              "    <tr>\n",
              "      <th>mean</th>\n",
              "      <td>39.208676</td>\n",
              "      <td>30.664589</td>\n",
              "      <td>1.094918</td>\n",
              "      <td>13270.422265</td>\n",
              "    </tr>\n",
              "    <tr>\n",
              "      <th>std</th>\n",
              "      <td>14.055088</td>\n",
              "      <td>6.100313</td>\n",
              "      <td>1.205493</td>\n",
              "      <td>12110.011237</td>\n",
              "    </tr>\n",
              "    <tr>\n",
              "      <th>min</th>\n",
              "      <td>18.000000</td>\n",
              "      <td>15.960000</td>\n",
              "      <td>0.000000</td>\n",
              "      <td>1121.873900</td>\n",
              "    </tr>\n",
              "    <tr>\n",
              "      <th>25%</th>\n",
              "      <td>27.000000</td>\n",
              "      <td>26.290000</td>\n",
              "      <td>0.000000</td>\n",
              "      <td>4740.287150</td>\n",
              "    </tr>\n",
              "    <tr>\n",
              "      <th>50%</th>\n",
              "      <td>39.000000</td>\n",
              "      <td>30.400000</td>\n",
              "      <td>1.000000</td>\n",
              "      <td>9382.033000</td>\n",
              "    </tr>\n",
              "    <tr>\n",
              "      <th>75%</th>\n",
              "      <td>51.000000</td>\n",
              "      <td>34.700000</td>\n",
              "      <td>2.000000</td>\n",
              "      <td>16639.912515</td>\n",
              "    </tr>\n",
              "    <tr>\n",
              "      <th>max</th>\n",
              "      <td>64.000000</td>\n",
              "      <td>53.130000</td>\n",
              "      <td>5.000000</td>\n",
              "      <td>63770.428010</td>\n",
              "    </tr>\n",
              "  </tbody>\n",
              "</table>\n",
              "</div>\n",
              "      <button class=\"colab-df-convert\" onclick=\"convertToInteractive('df-9789d533-17ec-4b47-ab86-600408cc3b44')\"\n",
              "              title=\"Convert this dataframe to an interactive table.\"\n",
              "              style=\"display:none;\">\n",
              "        \n",
              "  <svg xmlns=\"http://www.w3.org/2000/svg\" height=\"24px\"viewBox=\"0 0 24 24\"\n",
              "       width=\"24px\">\n",
              "    <path d=\"M0 0h24v24H0V0z\" fill=\"none\"/>\n",
              "    <path d=\"M18.56 5.44l.94 2.06.94-2.06 2.06-.94-2.06-.94-.94-2.06-.94 2.06-2.06.94zm-11 1L8.5 8.5l.94-2.06 2.06-.94-2.06-.94L8.5 2.5l-.94 2.06-2.06.94zm10 10l.94 2.06.94-2.06 2.06-.94-2.06-.94-.94-2.06-.94 2.06-2.06.94z\"/><path d=\"M17.41 7.96l-1.37-1.37c-.4-.4-.92-.59-1.43-.59-.52 0-1.04.2-1.43.59L10.3 9.45l-7.72 7.72c-.78.78-.78 2.05 0 2.83L4 21.41c.39.39.9.59 1.41.59.51 0 1.02-.2 1.41-.59l7.78-7.78 2.81-2.81c.8-.78.8-2.07 0-2.86zM5.41 20L4 18.59l7.72-7.72 1.47 1.35L5.41 20z\"/>\n",
              "  </svg>\n",
              "      </button>\n",
              "      \n",
              "  <style>\n",
              "    .colab-df-container {\n",
              "      display:flex;\n",
              "      flex-wrap:wrap;\n",
              "      gap: 12px;\n",
              "    }\n",
              "\n",
              "    .colab-df-convert {\n",
              "      background-color: #E8F0FE;\n",
              "      border: none;\n",
              "      border-radius: 50%;\n",
              "      cursor: pointer;\n",
              "      display: none;\n",
              "      fill: #1967D2;\n",
              "      height: 32px;\n",
              "      padding: 0 0 0 0;\n",
              "      width: 32px;\n",
              "    }\n",
              "\n",
              "    .colab-df-convert:hover {\n",
              "      background-color: #E2EBFA;\n",
              "      box-shadow: 0px 1px 2px rgba(60, 64, 67, 0.3), 0px 1px 3px 1px rgba(60, 64, 67, 0.15);\n",
              "      fill: #174EA6;\n",
              "    }\n",
              "\n",
              "    [theme=dark] .colab-df-convert {\n",
              "      background-color: #3B4455;\n",
              "      fill: #D2E3FC;\n",
              "    }\n",
              "\n",
              "    [theme=dark] .colab-df-convert:hover {\n",
              "      background-color: #434B5C;\n",
              "      box-shadow: 0px 1px 3px 1px rgba(0, 0, 0, 0.15);\n",
              "      filter: drop-shadow(0px 1px 2px rgba(0, 0, 0, 0.3));\n",
              "      fill: #FFFFFF;\n",
              "    }\n",
              "  </style>\n",
              "\n",
              "      <script>\n",
              "        const buttonEl =\n",
              "          document.querySelector('#df-9789d533-17ec-4b47-ab86-600408cc3b44 button.colab-df-convert');\n",
              "        buttonEl.style.display =\n",
              "          google.colab.kernel.accessAllowed ? 'block' : 'none';\n",
              "\n",
              "        async function convertToInteractive(key) {\n",
              "          const element = document.querySelector('#df-9789d533-17ec-4b47-ab86-600408cc3b44');\n",
              "          const dataTable =\n",
              "            await google.colab.kernel.invokeFunction('convertToInteractive',\n",
              "                                                     [key], {});\n",
              "          if (!dataTable) return;\n",
              "\n",
              "          const docLinkHtml = 'Like what you see? Visit the ' +\n",
              "            '<a target=\"_blank\" href=https://colab.research.google.com/notebooks/data_table.ipynb>data table notebook</a>'\n",
              "            + ' to learn more about interactive tables.';\n",
              "          element.innerHTML = '';\n",
              "          dataTable['output_type'] = 'display_data';\n",
              "          await google.colab.output.renderOutput(dataTable, element);\n",
              "          const docLink = document.createElement('div');\n",
              "          docLink.innerHTML = docLinkHtml;\n",
              "          element.appendChild(docLink);\n",
              "        }\n",
              "      </script>\n",
              "    </div>\n",
              "  </div>\n",
              "  "
            ],
            "text/plain": [
              "               age          bmi     children       charges\n",
              "count  1337.000000  1337.000000  1338.000000   1338.000000\n",
              "mean     39.208676    30.664589     1.094918  13270.422265\n",
              "std      14.055088     6.100313     1.205493  12110.011237\n",
              "min      18.000000    15.960000     0.000000   1121.873900\n",
              "25%      27.000000    26.290000     0.000000   4740.287150\n",
              "50%      39.000000    30.400000     1.000000   9382.033000\n",
              "75%      51.000000    34.700000     2.000000  16639.912515\n",
              "max      64.000000    53.130000     5.000000  63770.428010"
            ]
          },
          "execution_count": 132,
          "metadata": {},
          "output_type": "execute_result"
        }
      ],
      "source": [
        "seguro.describe()"
      ]
    },
    {
      "cell_type": "markdown",
      "id": "7670cba2-f098-4383-952a-c582af2bafc6",
      "metadata": {
        "id": "7670cba2-f098-4383-952a-c582af2bafc6"
      },
      "source": [
        "## Representando los datos\n",
        "\n",
        "Los histogramas indican cuántas veces aparece un elemento en un conjunto de datos.\n",
        "El método *hist* usa el *pyplot* de la librería *matplotlib* para representar histogramas con los que visualizar los datos. Se le pasa el ancho de las columnas y el tamaño de la gráfica."
      ]
    },
    {
      "cell_type": "code",
      "execution_count": null,
      "id": "9f894aff-edc2-4c67-9e73-62d66d3dd75c",
      "metadata": {
        "colab": {
          "base_uri": "https://localhost:8080/",
          "height": 522
        },
        "id": "9f894aff-edc2-4c67-9e73-62d66d3dd75c",
        "outputId": "aacdbe8f-90e3-4e3c-f06e-cffb9f878bbd"
      },
      "outputs": [
        {
          "data": {
            "image/png": "[encoded data removed]",
            "text/plain": [
              "<Figure size 1440x1080 with 4 Axes>"
            ]
          },
          "metadata": {
            "needs_background": "light"
          },
          "output_type": "display_data"
        }
      ],
      "source": [
        "seguro.hist(bins=50, figsize=(20,15));"
      ]
    },
    {
      "cell_type": "markdown",
      "id": "DyejD5kQWdHK",
      "metadata": {
        "id": "DyejD5kQWdHK"
      },
      "source": [
        "La mayoría de personas no tienen hijos o tienen entre 1 y 3. El histograma de **charges** indica que la gran mayoría de las primas de seguro no superan los 20.000, por eso la media total calculada antes con el método *describe* sea 13.270'422265."
      ]
    },
    {
      "cell_type": "markdown",
      "id": "029577ad-b47a-459c-80d2-4391638c5857",
      "metadata": {
        "id": "029577ad-b47a-459c-80d2-4391638c5857"
      },
      "source": [
        "## Visualizando datos"
      ]
    },
    {
      "cell_type": "code",
      "execution_count": 27,
      "id": "c0a8e5f4-86a6-4093-9f7d-b60a69ded619",
      "metadata": {
        "colab": {
          "base_uri": "https://localhost:8080/",
          "height": 286
        },
        "id": "c0a8e5f4-86a6-4093-9f7d-b60a69ded619",
        "outputId": "ff22cb17-f1f8-4fad-bc7b-7bd35d6a3b17"
      },
      "outputs": [
        {
          "data": {
            "image/png": "[encoded data removed]",
            "text/plain": [
              "<Figure size 432x288 with 1 Axes>"
            ]
          },
          "metadata": {
            "needs_background": "light"
          },
          "output_type": "display_data"
        }
      ],
      "source": [
        "seguro.plot(kind=\"scatter\", x=\"charges\", y=\"age\", alpha=0.5);"
      ]
    },
    {
      "cell_type": "markdown",
      "id": "bb525eea",
      "metadata": {
        "id": "bb525eea"
      },
      "source": [
        "Analizando esta gráfica podemos decir que cuanto mayor sea la edad del cliente, mayor será la prima del seguro. En el siguiente apartado se muestra esta conclusión al buscar la correlación entre la columna de la prima de seguro respecto al resto de columnas, dando como resultado la correlación más alta con la columna **age**."
      ]
    },
    {
      "cell_type": "markdown",
      "id": "5e13490c-264f-4219-bcf3-09fc330c9d0d",
      "metadata": {
        "id": "5e13490c-264f-4219-bcf3-09fc330c9d0d"
      },
      "source": [
        "## Buscando correlaciones"
      ]
    },
    {
      "cell_type": "markdown",
      "id": "e76adeb7-5243-45f7-a759-2bb34cbb90e0",
      "metadata": {
        "id": "e76adeb7-5243-45f7-a759-2bb34cbb90e0"
      },
      "source": [
        "### Las correlaciones buscan la relación entre columnas del dataset. La relación entre una columna consigo misma siempre va a ser la más alta(1.000000)."
      ]
    },
    {
      "cell_type": "code",
      "execution_count": 35,
      "id": "b23996a1-8349-41b6-8c6e-95e1d6343c80",
      "metadata": {
        "colab": {
          "base_uri": "https://localhost:8080/",
          "height": 175
        },
        "id": "b23996a1-8349-41b6-8c6e-95e1d6343c80",
        "outputId": "0d3bb4bd-92c4-4160-fc8a-18cb286876d7"
      },
      "outputs": [
        {
          "data": {
            "text/html": [
              "\n",
              "  <div id=\"df-ed62d6f2-ff90-47f7-b128-3fb326cd9b20\">\n",
              "    <div class=\"colab-df-container\">\n",
              "      <div>\n",
              "<style scoped>\n",
              "    .dataframe tbody tr th:only-of-type {\n",
              "        vertical-align: middle;\n",
              "    }\n",
              "\n",
              "    .dataframe tbody tr th {\n",
              "        vertical-align: top;\n",
              "    }\n",
              "\n",
              "    .dataframe thead th {\n",
              "        text-align: right;\n",
              "    }\n",
              "</style>\n",
              "<table border=\"1\" class=\"dataframe\">\n",
              "  <thead>\n",
              "    <tr style=\"text-align: right;\">\n",
              "      <th></th>\n",
              "      <th>age</th>\n",
              "      <th>bmi</th>\n",
              "      <th>children</th>\n",
              "      <th>charges</th>\n",
              "    </tr>\n",
              "  </thead>\n",
              "  <tbody>\n",
              "    <tr>\n",
              "      <th>age</th>\n",
              "      <td>1.000000</td>\n",
              "      <td>0.109616</td>\n",
              "      <td>0.042376</td>\n",
              "      <td>0.299102</td>\n",
              "    </tr>\n",
              "    <tr>\n",
              "      <th>bmi</th>\n",
              "      <td>0.109616</td>\n",
              "      <td>1.000000</td>\n",
              "      <td>0.012585</td>\n",
              "      <td>0.198730</td>\n",
              "    </tr>\n",
              "    <tr>\n",
              "      <th>children</th>\n",
              "      <td>0.042376</td>\n",
              "      <td>0.012585</td>\n",
              "      <td>1.000000</td>\n",
              "      <td>0.067998</td>\n",
              "    </tr>\n",
              "    <tr>\n",
              "      <th>charges</th>\n",
              "      <td>0.299102</td>\n",
              "      <td>0.198730</td>\n",
              "      <td>0.067998</td>\n",
              "      <td>1.000000</td>\n",
              "    </tr>\n",
              "  </tbody>\n",
              "</table>\n",
              "</div>\n",
              "      <button class=\"colab-df-convert\" onclick=\"convertToInteractive('df-ed62d6f2-ff90-47f7-b128-3fb326cd9b20')\"\n",
              "              title=\"Convert this dataframe to an interactive table.\"\n",
              "              style=\"display:none;\">\n",
              "        \n",
              "  <svg xmlns=\"http://www.w3.org/2000/svg\" height=\"24px\"viewBox=\"0 0 24 24\"\n",
              "       width=\"24px\">\n",
              "    <path d=\"M0 0h24v24H0V0z\" fill=\"none\"/>\n",
              "    <path d=\"M18.56 5.44l.94 2.06.94-2.06 2.06-.94-2.06-.94-.94-2.06-.94 2.06-2.06.94zm-11 1L8.5 8.5l.94-2.06 2.06-.94-2.06-.94L8.5 2.5l-.94 2.06-2.06.94zm10 10l.94 2.06.94-2.06 2.06-.94-2.06-.94-.94-2.06-.94 2.06-2.06.94z\"/><path d=\"M17.41 7.96l-1.37-1.37c-.4-.4-.92-.59-1.43-.59-.52 0-1.04.2-1.43.59L10.3 9.45l-7.72 7.72c-.78.78-.78 2.05 0 2.83L4 21.41c.39.39.9.59 1.41.59.51 0 1.02-.2 1.41-.59l7.78-7.78 2.81-2.81c.8-.78.8-2.07 0-2.86zM5.41 20L4 18.59l7.72-7.72 1.47 1.35L5.41 20z\"/>\n",
              "  </svg>\n",
              "      </button>\n",
              "      \n",
              "  <style>\n",
              "    .colab-df-container {\n",
              "      display:flex;\n",
              "      flex-wrap:wrap;\n",
              "      gap: 12px;\n",
              "    }\n",
              "\n",
              "    .colab-df-convert {\n",
              "      background-color: #E8F0FE;\n",
              "      border: none;\n",
              "      border-radius: 50%;\n",
              "      cursor: pointer;\n",
              "      display: none;\n",
              "      fill: #1967D2;\n",
              "      height: 32px;\n",
              "      padding: 0 0 0 0;\n",
              "      width: 32px;\n",
              "    }\n",
              "\n",
              "    .colab-df-convert:hover {\n",
              "      background-color: #E2EBFA;\n",
              "      box-shadow: 0px 1px 2px rgba(60, 64, 67, 0.3), 0px 1px 3px 1px rgba(60, 64, 67, 0.15);\n",
              "      fill: #174EA6;\n",
              "    }\n",
              "\n",
              "    [theme=dark] .colab-df-convert {\n",
              "      background-color: #3B4455;\n",
              "      fill: #D2E3FC;\n",
              "    }\n",
              "\n",
              "    [theme=dark] .colab-df-convert:hover {\n",
              "      background-color: #434B5C;\n",
              "      box-shadow: 0px 1px 3px 1px rgba(0, 0, 0, 0.15);\n",
              "      filter: drop-shadow(0px 1px 2px rgba(0, 0, 0, 0.3));\n",
              "      fill: #FFFFFF;\n",
              "    }\n",
              "  </style>\n",
              "\n",
              "      <script>\n",
              "        const buttonEl =\n",
              "          document.querySelector('#df-ed62d6f2-ff90-47f7-b128-3fb326cd9b20 button.colab-df-convert');\n",
              "        buttonEl.style.display =\n",
              "          google.colab.kernel.accessAllowed ? 'block' : 'none';\n",
              "\n",
              "        async function convertToInteractive(key) {\n",
              "          const element = document.querySelector('#df-ed62d6f2-ff90-47f7-b128-3fb326cd9b20');\n",
              "          const dataTable =\n",
              "            await google.colab.kernel.invokeFunction('convertToInteractive',\n",
              "                                                     [key], {});\n",
              "          if (!dataTable) return;\n",
              "\n",
              "          const docLinkHtml = 'Like what you see? Visit the ' +\n",
              "            '<a target=\"_blank\" href=https://colab.research.google.com/notebooks/data_table.ipynb>data table notebook</a>'\n",
              "            + ' to learn more about interactive tables.';\n",
              "          element.innerHTML = '';\n",
              "          dataTable['output_type'] = 'display_data';\n",
              "          await google.colab.output.renderOutput(dataTable, element);\n",
              "          const docLink = document.createElement('div');\n",
              "          docLink.innerHTML = docLinkHtml;\n",
              "          element.appendChild(docLink);\n",
              "        }\n",
              "      </script>\n",
              "    </div>\n",
              "  </div>\n",
              "  "
            ],
            "text/plain": [
              "               age       bmi  children   charges\n",
              "age       1.000000  0.109616  0.042376  0.299102\n",
              "bmi       0.109616  1.000000  0.012585  0.198730\n",
              "children  0.042376  0.012585  1.000000  0.067998\n",
              "charges   0.299102  0.198730  0.067998  1.000000"
            ]
          },
          "execution_count": 35,
          "metadata": {},
          "output_type": "execute_result"
        }
      ],
      "source": [
        "corr_matrix=seguro.corr()\n",
        "corr_matrix"
      ]
    },
    {
      "cell_type": "markdown",
      "id": "ac87475b-bdca-4688-8923-de0152aea0e4",
      "metadata": {
        "id": "ac87475b-bdca-4688-8923-de0152aea0e4"
      },
      "source": [
        "Correlación columna **charges** y resto columnas:"
      ]
    },
    {
      "cell_type": "code",
      "execution_count": 36,
      "id": "591105e8-ea9f-4d53-b623-dccc34a393a0",
      "metadata": {
        "colab": {
          "base_uri": "https://localhost:8080/"
        },
        "id": "591105e8-ea9f-4d53-b623-dccc34a393a0",
        "outputId": "9292f35a-e01e-47af-d973-fdb7b76be2b0"
      },
      "outputs": [
        {
          "data": {
            "text/plain": [
              "charges     1.000000\n",
              "age         0.299102\n",
              "bmi         0.198730\n",
              "children    0.067998\n",
              "Name: charges, dtype: float64"
            ]
          },
          "execution_count": 36,
          "metadata": {},
          "output_type": "execute_result"
        }
      ],
      "source": [
        "corr_matrix[\"charges\"].sort_values(ascending=False)"
      ]
    },
    {
      "cell_type": "markdown",
      "id": "8d1dad2f-cf80-4cb2-afe1-a35410c3d1c0",
      "metadata": {
        "id": "8d1dad2f-cf80-4cb2-afe1-a35410c3d1c0"
      },
      "source": [
        "La columna que indica la edad (**age**) es la que más correlación tiene con la columna a predecir (**charges**), un 0'29%."
      ]
    },
    {
      "cell_type": "markdown",
      "id": "93666348-8460-4c67-9007-cc381202f3de",
      "metadata": {
        "id": "93666348-8460-4c67-9007-cc381202f3de"
      },
      "source": [
        "Con el submódulo *plotting* del módulo *pandas* se puede visualizar una matriz de gráficos de dispersión cruzando las características cuantitativas del dataframe. En la diagonal de la matriz se representan los histogramas."
      ]
    },
    {
      "cell_type": "code",
      "execution_count": 37,
      "id": "8fc8413c-8fe6-4ed1-aba8-e5123f7d23cf",
      "metadata": {
        "colab": {
          "base_uri": "https://localhost:8080/",
          "height": 896
        },
        "id": "8fc8413c-8fe6-4ed1-aba8-e5123f7d23cf",
        "outputId": "5d59477f-c6de-4954-b6b0-06ca17a40eef"
      },
      "outputs": [
        {
          "data": {
            "image/png": "[encoded data removed]",
            "text/plain": [
              "<Figure size 1080x1080 with 16 Axes>"
            ]
          },
          "metadata": {
            "needs_background": "light"
          },
          "output_type": "display_data"
        }
      ],
      "source": [
        "from pandas.plotting import scatter_matrix;\n",
        "\n",
        "attributes=[\"charges\",\"age\",\"bmi\",\"children\"];\n",
        "\n",
        "\n",
        "scatter_matrix(seguro[attributes], figsize=(15,15));"
      ]
    },
    {
      "cell_type": "markdown",
      "id": "Y4INSxQUqIIS",
      "metadata": {
        "id": "Y4INSxQUqIIS"
      },
      "source": [
        "# Preparando los datos para LOS algoritmos de aprendizaje automático"
      ]
    },
    {
      "cell_type": "markdown",
      "id": "5-KnqL9GqPBU",
      "metadata": {
        "id": "5-KnqL9GqPBU"
      },
      "source": [
        "## Limpiando los datos"
      ]
    },
    {
      "cell_type": "markdown",
      "id": "DEhE45CQB1k5",
      "metadata": {
        "id": "DEhE45CQB1k5"
      },
      "source": [
        "A continuación se muestran todas las filas con algún valor nulo(NaN), de las cuales 3(**age**,**bmi**,**smoker**) tienen nulos.\n",
        "\n"
      ]
    },
    {
      "cell_type": "code",
      "execution_count": 38,
      "id": "2aNLDKj-BGvj",
      "metadata": {
        "colab": {
          "base_uri": "https://localhost:8080/",
          "height": 143
        },
        "id": "2aNLDKj-BGvj",
        "outputId": "bbb1ba56-4799-4d32-b10a-30fc85638556"
      },
      "outputs": [
        {
          "data": {
            "text/html": [
              "\n",
              "  <div id=\"df-57f0a730-2557-446b-ba77-0a7677d1a886\">\n",
              "    <div class=\"colab-df-container\">\n",
              "      <div>\n",
              "<style scoped>\n",
              "    .dataframe tbody tr th:only-of-type {\n",
              "        vertical-align: middle;\n",
              "    }\n",
              "\n",
              "    .dataframe tbody tr th {\n",
              "        vertical-align: top;\n",
              "    }\n",
              "\n",
              "    .dataframe thead th {\n",
              "        text-align: right;\n",
              "    }\n",
              "</style>\n",
              "<table border=\"1\" class=\"dataframe\">\n",
              "  <thead>\n",
              "    <tr style=\"text-align: right;\">\n",
              "      <th></th>\n",
              "      <th>age</th>\n",
              "      <th>sex</th>\n",
              "      <th>bmi</th>\n",
              "      <th>children</th>\n",
              "      <th>smoker</th>\n",
              "      <th>region</th>\n",
              "      <th>charges</th>\n",
              "    </tr>\n",
              "  </thead>\n",
              "  <tbody>\n",
              "    <tr>\n",
              "      <th>681</th>\n",
              "      <td>19.0</td>\n",
              "      <td>male</td>\n",
              "      <td>20.3</td>\n",
              "      <td>0</td>\n",
              "      <td>NaN</td>\n",
              "      <td>southwest</td>\n",
              "      <td>1242.2600</td>\n",
              "    </tr>\n",
              "    <tr>\n",
              "      <th>750</th>\n",
              "      <td>NaN</td>\n",
              "      <td>female</td>\n",
              "      <td>26.4</td>\n",
              "      <td>0</td>\n",
              "      <td>yes</td>\n",
              "      <td>southeast</td>\n",
              "      <td>19539.2430</td>\n",
              "    </tr>\n",
              "    <tr>\n",
              "      <th>1337</th>\n",
              "      <td>61.0</td>\n",
              "      <td>female</td>\n",
              "      <td>NaN</td>\n",
              "      <td>0</td>\n",
              "      <td>yes</td>\n",
              "      <td>northwest</td>\n",
              "      <td>29141.3603</td>\n",
              "    </tr>\n",
              "  </tbody>\n",
              "</table>\n",
              "</div>\n",
              "      <button class=\"colab-df-convert\" onclick=\"convertToInteractive('df-57f0a730-2557-446b-ba77-0a7677d1a886')\"\n",
              "              title=\"Convert this dataframe to an interactive table.\"\n",
              "              style=\"display:none;\">\n",
              "        \n",
              "  <svg xmlns=\"http://www.w3.org/2000/svg\" height=\"24px\"viewBox=\"0 0 24 24\"\n",
              "       width=\"24px\">\n",
              "    <path d=\"M0 0h24v24H0V0z\" fill=\"none\"/>\n",
              "    <path d=\"M18.56 5.44l.94 2.06.94-2.06 2.06-.94-2.06-.94-.94-2.06-.94 2.06-2.06.94zm-11 1L8.5 8.5l.94-2.06 2.06-.94-2.06-.94L8.5 2.5l-.94 2.06-2.06.94zm10 10l.94 2.06.94-2.06 2.06-.94-2.06-.94-.94-2.06-.94 2.06-2.06.94z\"/><path d=\"M17.41 7.96l-1.37-1.37c-.4-.4-.92-.59-1.43-.59-.52 0-1.04.2-1.43.59L10.3 9.45l-7.72 7.72c-.78.78-.78 2.05 0 2.83L4 21.41c.39.39.9.59 1.41.59.51 0 1.02-.2 1.41-.59l7.78-7.78 2.81-2.81c.8-.78.8-2.07 0-2.86zM5.41 20L4 18.59l7.72-7.72 1.47 1.35L5.41 20z\"/>\n",
              "  </svg>\n",
              "      </button>\n",
              "      \n",
              "  <style>\n",
              "    .colab-df-container {\n",
              "      display:flex;\n",
              "      flex-wrap:wrap;\n",
              "      gap: 12px;\n",
              "    }\n",
              "\n",
              "    .colab-df-convert {\n",
              "      background-color: #E8F0FE;\n",
              "      border: none;\n",
              "      border-radius: 50%;\n",
              "      cursor: pointer;\n",
              "      display: none;\n",
              "      fill: #1967D2;\n",
              "      height: 32px;\n",
              "      padding: 0 0 0 0;\n",
              "      width: 32px;\n",
              "    }\n",
              "\n",
              "    .colab-df-convert:hover {\n",
              "      background-color: #E2EBFA;\n",
              "      box-shadow: 0px 1px 2px rgba(60, 64, 67, 0.3), 0px 1px 3px 1px rgba(60, 64, 67, 0.15);\n",
              "      fill: #174EA6;\n",
              "    }\n",
              "\n",
              "    [theme=dark] .colab-df-convert {\n",
              "      background-color: #3B4455;\n",
              "      fill: #D2E3FC;\n",
              "    }\n",
              "\n",
              "    [theme=dark] .colab-df-convert:hover {\n",
              "      background-color: #434B5C;\n",
              "      box-shadow: 0px 1px 3px 1px rgba(0, 0, 0, 0.15);\n",
              "      filter: drop-shadow(0px 1px 2px rgba(0, 0, 0, 0.3));\n",
              "      fill: #FFFFFF;\n",
              "    }\n",
              "  </style>\n",
              "\n",
              "      <script>\n",
              "        const buttonEl =\n",
              "          document.querySelector('#df-57f0a730-2557-446b-ba77-0a7677d1a886 button.colab-df-convert');\n",
              "        buttonEl.style.display =\n",
              "          google.colab.kernel.accessAllowed ? 'block' : 'none';\n",
              "\n",
              "        async function convertToInteractive(key) {\n",
              "          const element = document.querySelector('#df-57f0a730-2557-446b-ba77-0a7677d1a886');\n",
              "          const dataTable =\n",
              "            await google.colab.kernel.invokeFunction('convertToInteractive',\n",
              "                                                     [key], {});\n",
              "          if (!dataTable) return;\n",
              "\n",
              "          const docLinkHtml = 'Like what you see? Visit the ' +\n",
              "            '<a target=\"_blank\" href=https://colab.research.google.com/notebooks/data_table.ipynb>data table notebook</a>'\n",
              "            + ' to learn more about interactive tables.';\n",
              "          element.innerHTML = '';\n",
              "          dataTable['output_type'] = 'display_data';\n",
              "          await google.colab.output.renderOutput(dataTable, element);\n",
              "          const docLink = document.createElement('div');\n",
              "          docLink.innerHTML = docLinkHtml;\n",
              "          element.appendChild(docLink);\n",
              "        }\n",
              "      </script>\n",
              "    </div>\n",
              "  </div>\n",
              "  "
            ],
            "text/plain": [
              "       age     sex   bmi  children smoker     region     charges\n",
              "681   19.0    male  20.3         0    NaN  southwest   1242.2600\n",
              "750    NaN  female  26.4         0    yes  southeast  19539.2430\n",
              "1337  61.0  female   NaN         0    yes  northwest  29141.3603"
            ]
          },
          "execution_count": 38,
          "metadata": {},
          "output_type": "execute_result"
        }
      ],
      "source": [
        "sample_incomplete_rows=seguro[seguro.isnull().any(axis=1)] \n",
        "sample_incomplete_rows.head()"
      ]
    },
    {
      "cell_type": "markdown",
      "id": "9rXgb60PqXbc",
      "metadata": {
        "id": "9rXgb60PqXbc"
      },
      "source": [
        "Para las columnas de tipo numérico(**bmi** y **age**) se van a sustituír los datos nulos por la mediana.\n",
        "\n"
      ]
    },
    {
      "cell_type": "code",
      "execution_count": 39,
      "id": "46fdb9e2-7e32-46c4-9297-d3861de160c4",
      "metadata": {
        "id": "46fdb9e2-7e32-46c4-9297-d3861de160c4"
      },
      "outputs": [],
      "source": [
        "median = seguro[\"bmi\"].median();\n",
        "seguro[\"bmi\"].fillna(median, inplace=True)\n",
        "\n",
        "median = seguro[\"age\"].median();\n",
        "seguro[\"age\"].fillna(median, inplace=True)\n"
      ]
    },
    {
      "cell_type": "markdown",
      "id": "ZLk5XUjvfAh0",
      "metadata": {
        "id": "ZLk5XUjvfAh0"
      },
      "source": [
        "Comprobamos que las columnas **bmi** y **age** ya no tienen datos nulos:"
      ]
    },
    {
      "cell_type": "code",
      "execution_count": 40,
      "id": "703379f7-9b11-4cab-acfe-128dd6f7cc03",
      "metadata": {
        "colab": {
          "base_uri": "https://localhost:8080/"
        },
        "id": "703379f7-9b11-4cab-acfe-128dd6f7cc03",
        "outputId": "f1b5b209-866a-48ac-ae40-51f425f5f12c"
      },
      "outputs": [
        {
          "name": "stdout",
          "output_type": "stream",
          "text": [
            "<class 'pandas.core.frame.DataFrame'>\n",
            "RangeIndex: 1338 entries, 0 to 1337\n",
            "Data columns (total 7 columns):\n",
            " #   Column    Non-Null Count  Dtype  \n",
            "---  ------    --------------  -----  \n",
            " 0   age       1338 non-null   float64\n",
            " 1   sex       1338 non-null   object \n",
            " 2   bmi       1338 non-null   float64\n",
            " 3   children  1338 non-null   int64  \n",
            " 4   smoker    1337 non-null   object \n",
            " 5   region    1338 non-null   object \n",
            " 6   charges   1338 non-null   float64\n",
            "dtypes: float64(3), int64(1), object(3)\n",
            "memory usage: 73.3+ KB\n"
          ]
        }
      ],
      "source": [
        "seguro.info()"
      ]
    },
    {
      "cell_type": "markdown",
      "id": "eizE4O8Vfmt3",
      "metadata": {
        "id": "eizE4O8Vfmt3"
      },
      "source": [
        "## Gestionando los atributos categóricos o de tipo texto"
      ]
    },
    {
      "cell_type": "markdown",
      "id": "Imw3FMQNC4MD",
      "metadata": {
        "id": "Imw3FMQNC4MD"
      },
      "source": [
        "\n",
        "Primero vamos a limpiar los nulos de la columna categórica **smoker**. Para ello se necesita crear tantas columnas como categorías haya y realizar algunos cambios y cálculos.\n",
        "\n",
        "Cuando ya no queden nulos será necesario dividir las columnas **sex** y **region**, también de tipo texto, en varias columnas en función del número de categorías de cada una."
      ]
    },
    {
      "cell_type": "code",
      "execution_count": 41,
      "id": "HmRUqNNYkzE8",
      "metadata": {
        "colab": {
          "base_uri": "https://localhost:8080/",
          "height": 423
        },
        "id": "HmRUqNNYkzE8",
        "outputId": "f8ac08d5-a9fc-4c80-f7ee-81c146aa0a18"
      },
      "outputs": [
        {
          "data": {
            "text/html": [
              "\n",
              "  <div id=\"df-12490627-7a24-4e52-9158-f82666bbff99\">\n",
              "    <div class=\"colab-df-container\">\n",
              "      <div>\n",
              "<style scoped>\n",
              "    .dataframe tbody tr th:only-of-type {\n",
              "        vertical-align: middle;\n",
              "    }\n",
              "\n",
              "    .dataframe tbody tr th {\n",
              "        vertical-align: top;\n",
              "    }\n",
              "\n",
              "    .dataframe thead th {\n",
              "        text-align: right;\n",
              "    }\n",
              "</style>\n",
              "<table border=\"1\" class=\"dataframe\">\n",
              "  <thead>\n",
              "    <tr style=\"text-align: right;\">\n",
              "      <th></th>\n",
              "      <th>smoker</th>\n",
              "    </tr>\n",
              "  </thead>\n",
              "  <tbody>\n",
              "    <tr>\n",
              "      <th>0</th>\n",
              "      <td>yes</td>\n",
              "    </tr>\n",
              "    <tr>\n",
              "      <th>1</th>\n",
              "      <td>no</td>\n",
              "    </tr>\n",
              "    <tr>\n",
              "      <th>2</th>\n",
              "      <td>no</td>\n",
              "    </tr>\n",
              "    <tr>\n",
              "      <th>3</th>\n",
              "      <td>no</td>\n",
              "    </tr>\n",
              "    <tr>\n",
              "      <th>4</th>\n",
              "      <td>no</td>\n",
              "    </tr>\n",
              "    <tr>\n",
              "      <th>...</th>\n",
              "      <td>...</td>\n",
              "    </tr>\n",
              "    <tr>\n",
              "      <th>1333</th>\n",
              "      <td>no</td>\n",
              "    </tr>\n",
              "    <tr>\n",
              "      <th>1334</th>\n",
              "      <td>no</td>\n",
              "    </tr>\n",
              "    <tr>\n",
              "      <th>1335</th>\n",
              "      <td>no</td>\n",
              "    </tr>\n",
              "    <tr>\n",
              "      <th>1336</th>\n",
              "      <td>no</td>\n",
              "    </tr>\n",
              "    <tr>\n",
              "      <th>1337</th>\n",
              "      <td>yes</td>\n",
              "    </tr>\n",
              "  </tbody>\n",
              "</table>\n",
              "<p>1338 rows × 1 columns</p>\n",
              "</div>\n",
              "      <button class=\"colab-df-convert\" onclick=\"convertToInteractive('df-12490627-7a24-4e52-9158-f82666bbff99')\"\n",
              "              title=\"Convert this dataframe to an interactive table.\"\n",
              "              style=\"display:none;\">\n",
              "        \n",
              "  <svg xmlns=\"http://www.w3.org/2000/svg\" height=\"24px\"viewBox=\"0 0 24 24\"\n",
              "       width=\"24px\">\n",
              "    <path d=\"M0 0h24v24H0V0z\" fill=\"none\"/>\n",
              "    <path d=\"M18.56 5.44l.94 2.06.94-2.06 2.06-.94-2.06-.94-.94-2.06-.94 2.06-2.06.94zm-11 1L8.5 8.5l.94-2.06 2.06-.94-2.06-.94L8.5 2.5l-.94 2.06-2.06.94zm10 10l.94 2.06.94-2.06 2.06-.94-2.06-.94-.94-2.06-.94 2.06-2.06.94z\"/><path d=\"M17.41 7.96l-1.37-1.37c-.4-.4-.92-.59-1.43-.59-.52 0-1.04.2-1.43.59L10.3 9.45l-7.72 7.72c-.78.78-.78 2.05 0 2.83L4 21.41c.39.39.9.59 1.41.59.51 0 1.02-.2 1.41-.59l7.78-7.78 2.81-2.81c.8-.78.8-2.07 0-2.86zM5.41 20L4 18.59l7.72-7.72 1.47 1.35L5.41 20z\"/>\n",
              "  </svg>\n",
              "      </button>\n",
              "      \n",
              "  <style>\n",
              "    .colab-df-container {\n",
              "      display:flex;\n",
              "      flex-wrap:wrap;\n",
              "      gap: 12px;\n",
              "    }\n",
              "\n",
              "    .colab-df-convert {\n",
              "      background-color: #E8F0FE;\n",
              "      border: none;\n",
              "      border-radius: 50%;\n",
              "      cursor: pointer;\n",
              "      display: none;\n",
              "      fill: #1967D2;\n",
              "      height: 32px;\n",
              "      padding: 0 0 0 0;\n",
              "      width: 32px;\n",
              "    }\n",
              "\n",
              "    .colab-df-convert:hover {\n",
              "      background-color: #E2EBFA;\n",
              "      box-shadow: 0px 1px 2px rgba(60, 64, 67, 0.3), 0px 1px 3px 1px rgba(60, 64, 67, 0.15);\n",
              "      fill: #174EA6;\n",
              "    }\n",
              "\n",
              "    [theme=dark] .colab-df-convert {\n",
              "      background-color: #3B4455;\n",
              "      fill: #D2E3FC;\n",
              "    }\n",
              "\n",
              "    [theme=dark] .colab-df-convert:hover {\n",
              "      background-color: #434B5C;\n",
              "      box-shadow: 0px 1px 3px 1px rgba(0, 0, 0, 0.15);\n",
              "      filter: drop-shadow(0px 1px 2px rgba(0, 0, 0, 0.3));\n",
              "      fill: #FFFFFF;\n",
              "    }\n",
              "  </style>\n",
              "\n",
              "      <script>\n",
              "        const buttonEl =\n",
              "          document.querySelector('#df-12490627-7a24-4e52-9158-f82666bbff99 button.colab-df-convert');\n",
              "        buttonEl.style.display =\n",
              "          google.colab.kernel.accessAllowed ? 'block' : 'none';\n",
              "\n",
              "        async function convertToInteractive(key) {\n",
              "          const element = document.querySelector('#df-12490627-7a24-4e52-9158-f82666bbff99');\n",
              "          const dataTable =\n",
              "            await google.colab.kernel.invokeFunction('convertToInteractive',\n",
              "                                                     [key], {});\n",
              "          if (!dataTable) return;\n",
              "\n",
              "          const docLinkHtml = 'Like what you see? Visit the ' +\n",
              "            '<a target=\"_blank\" href=https://colab.research.google.com/notebooks/data_table.ipynb>data table notebook</a>'\n",
              "            + ' to learn more about interactive tables.';\n",
              "          element.innerHTML = '';\n",
              "          dataTable['output_type'] = 'display_data';\n",
              "          await google.colab.output.renderOutput(dataTable, element);\n",
              "          const docLink = document.createElement('div');\n",
              "          docLink.innerHTML = docLinkHtml;\n",
              "          element.appendChild(docLink);\n",
              "        }\n",
              "      </script>\n",
              "    </div>\n",
              "  </div>\n",
              "  "
            ],
            "text/plain": [
              "     smoker\n",
              "0       yes\n",
              "1        no\n",
              "2        no\n",
              "3        no\n",
              "4        no\n",
              "...     ...\n",
              "1333     no\n",
              "1334     no\n",
              "1335     no\n",
              "1336     no\n",
              "1337    yes\n",
              "\n",
              "[1338 rows x 1 columns]"
            ]
          },
          "execution_count": 41,
          "metadata": {},
          "output_type": "execute_result"
        }
      ],
      "source": [
        "seguro_cat = seguro[ [\"smoker\"] ]\n",
        "\n",
        "seguro_cat"
      ]
    },
    {
      "cell_type": "markdown",
      "id": "r3PLElxZlxwJ",
      "metadata": {
        "id": "r3PLElxZlxwJ"
      },
      "source": [
        "En la fila 681 del dataset hay un nulo:"
      ]
    },
    {
      "cell_type": "code",
      "execution_count": 42,
      "id": "f9f518cc-84cd-492a-b727-e737e573ff49",
      "metadata": {
        "colab": {
          "base_uri": "https://localhost:8080/",
          "height": 81
        },
        "id": "f9f518cc-84cd-492a-b727-e737e573ff49",
        "outputId": "7161f6f7-d2c2-484c-d569-14f5bf4b2f8d"
      },
      "outputs": [
        {
          "data": {
            "text/html": [
              "\n",
              "  <div id=\"df-05d4b9aa-7758-4c12-84b4-9750b424985c\">\n",
              "    <div class=\"colab-df-container\">\n",
              "      <div>\n",
              "<style scoped>\n",
              "    .dataframe tbody tr th:only-of-type {\n",
              "        vertical-align: middle;\n",
              "    }\n",
              "\n",
              "    .dataframe tbody tr th {\n",
              "        vertical-align: top;\n",
              "    }\n",
              "\n",
              "    .dataframe thead th {\n",
              "        text-align: right;\n",
              "    }\n",
              "</style>\n",
              "<table border=\"1\" class=\"dataframe\">\n",
              "  <thead>\n",
              "    <tr style=\"text-align: right;\">\n",
              "      <th></th>\n",
              "      <th>age</th>\n",
              "      <th>sex</th>\n",
              "      <th>bmi</th>\n",
              "      <th>children</th>\n",
              "      <th>smoker</th>\n",
              "      <th>region</th>\n",
              "      <th>charges</th>\n",
              "    </tr>\n",
              "  </thead>\n",
              "  <tbody>\n",
              "    <tr>\n",
              "      <th>681</th>\n",
              "      <td>19.0</td>\n",
              "      <td>male</td>\n",
              "      <td>20.3</td>\n",
              "      <td>0</td>\n",
              "      <td>NaN</td>\n",
              "      <td>southwest</td>\n",
              "      <td>1242.26</td>\n",
              "    </tr>\n",
              "  </tbody>\n",
              "</table>\n",
              "</div>\n",
              "      <button class=\"colab-df-convert\" onclick=\"convertToInteractive('df-05d4b9aa-7758-4c12-84b4-9750b424985c')\"\n",
              "              title=\"Convert this dataframe to an interactive table.\"\n",
              "              style=\"display:none;\">\n",
              "        \n",
              "  <svg xmlns=\"http://www.w3.org/2000/svg\" height=\"24px\"viewBox=\"0 0 24 24\"\n",
              "       width=\"24px\">\n",
              "    <path d=\"M0 0h24v24H0V0z\" fill=\"none\"/>\n",
              "    <path d=\"M18.56 5.44l.94 2.06.94-2.06 2.06-.94-2.06-.94-.94-2.06-.94 2.06-2.06.94zm-11 1L8.5 8.5l.94-2.06 2.06-.94-2.06-.94L8.5 2.5l-.94 2.06-2.06.94zm10 10l.94 2.06.94-2.06 2.06-.94-2.06-.94-.94-2.06-.94 2.06-2.06.94z\"/><path d=\"M17.41 7.96l-1.37-1.37c-.4-.4-.92-.59-1.43-.59-.52 0-1.04.2-1.43.59L10.3 9.45l-7.72 7.72c-.78.78-.78 2.05 0 2.83L4 21.41c.39.39.9.59 1.41.59.51 0 1.02-.2 1.41-.59l7.78-7.78 2.81-2.81c.8-.78.8-2.07 0-2.86zM5.41 20L4 18.59l7.72-7.72 1.47 1.35L5.41 20z\"/>\n",
              "  </svg>\n",
              "      </button>\n",
              "      \n",
              "  <style>\n",
              "    .colab-df-container {\n",
              "      display:flex;\n",
              "      flex-wrap:wrap;\n",
              "      gap: 12px;\n",
              "    }\n",
              "\n",
              "    .colab-df-convert {\n",
              "      background-color: #E8F0FE;\n",
              "      border: none;\n",
              "      border-radius: 50%;\n",
              "      cursor: pointer;\n",
              "      display: none;\n",
              "      fill: #1967D2;\n",
              "      height: 32px;\n",
              "      padding: 0 0 0 0;\n",
              "      width: 32px;\n",
              "    }\n",
              "\n",
              "    .colab-df-convert:hover {\n",
              "      background-color: #E2EBFA;\n",
              "      box-shadow: 0px 1px 2px rgba(60, 64, 67, 0.3), 0px 1px 3px 1px rgba(60, 64, 67, 0.15);\n",
              "      fill: #174EA6;\n",
              "    }\n",
              "\n",
              "    [theme=dark] .colab-df-convert {\n",
              "      background-color: #3B4455;\n",
              "      fill: #D2E3FC;\n",
              "    }\n",
              "\n",
              "    [theme=dark] .colab-df-convert:hover {\n",
              "      background-color: #434B5C;\n",
              "      box-shadow: 0px 1px 3px 1px rgba(0, 0, 0, 0.15);\n",
              "      filter: drop-shadow(0px 1px 2px rgba(0, 0, 0, 0.3));\n",
              "      fill: #FFFFFF;\n",
              "    }\n",
              "  </style>\n",
              "\n",
              "      <script>\n",
              "        const buttonEl =\n",
              "          document.querySelector('#df-05d4b9aa-7758-4c12-84b4-9750b424985c button.colab-df-convert');\n",
              "        buttonEl.style.display =\n",
              "          google.colab.kernel.accessAllowed ? 'block' : 'none';\n",
              "\n",
              "        async function convertToInteractive(key) {\n",
              "          const element = document.querySelector('#df-05d4b9aa-7758-4c12-84b4-9750b424985c');\n",
              "          const dataTable =\n",
              "            await google.colab.kernel.invokeFunction('convertToInteractive',\n",
              "                                                     [key], {});\n",
              "          if (!dataTable) return;\n",
              "\n",
              "          const docLinkHtml = 'Like what you see? Visit the ' +\n",
              "            '<a target=\"_blank\" href=https://colab.research.google.com/notebooks/data_table.ipynb>data table notebook</a>'\n",
              "            + ' to learn more about interactive tables.';\n",
              "          element.innerHTML = '';\n",
              "          dataTable['output_type'] = 'display_data';\n",
              "          await google.colab.output.renderOutput(dataTable, element);\n",
              "          const docLink = document.createElement('div');\n",
              "          docLink.innerHTML = docLinkHtml;\n",
              "          element.appendChild(docLink);\n",
              "        }\n",
              "      </script>\n",
              "    </div>\n",
              "  </div>\n",
              "  "
            ],
            "text/plain": [
              "      age   sex   bmi  children smoker     region  charges\n",
              "681  19.0  male  20.3         0    NaN  southwest  1242.26"
            ]
          },
          "execution_count": 42,
          "metadata": {},
          "output_type": "execute_result"
        }
      ],
      "source": [
        "sample_incomplete_rows=seguro[seguro.isnull().any(axis=1)] \n",
        "sample_incomplete_rows.head()"
      ]
    },
    {
      "cell_type": "markdown",
      "id": "ymVOt-m6hww3",
      "metadata": {
        "id": "ymVOt-m6hww3"
      },
      "source": [
        "Con el método *OneHotEncoder* se automatiza el crear tantas columnas como categorías haya. El resultado final serán 3 columnas: *yes*, *no* y *NaN*."
      ]
    },
    {
      "cell_type": "code",
      "execution_count": 43,
      "id": "-4OWtvzOkmy6",
      "metadata": {
        "colab": {
          "base_uri": "https://localhost:8080/"
        },
        "id": "-4OWtvzOkmy6",
        "outputId": "d8c8e3c5-da8e-4b5d-8e75-3993916f8dd3"
      },
      "outputs": [
        {
          "data": {
            "text/plain": [
              "array([[0., 1., 0.],\n",
              "       [1., 0., 0.],\n",
              "       [1., 0., 0.],\n",
              "       ...,\n",
              "       [1., 0., 0.],\n",
              "       [1., 0., 0.],\n",
              "       [0., 1., 0.]])"
            ]
          },
          "execution_count": 43,
          "metadata": {},
          "output_type": "execute_result"
        }
      ],
      "source": [
        "from sklearn.preprocessing import OneHotEncoder;\n",
        "\n",
        "# sparse=False para evitar como matriz resultante una matriz con una mayoría de ceros(matriz dispersa).\n",
        "cat_encoder = OneHotEncoder(sparse=False);\n",
        "seguro_cat_1hot = cat_encoder.fit_transform(seguro_cat)\n",
        "\n",
        "seguro_cat_1hot"
      ]
    },
    {
      "cell_type": "markdown",
      "id": "jS_fnQwgu1Kk",
      "metadata": {
        "id": "jS_fnQwgu1Kk"
      },
      "source": [
        "Una vez aplicado el *fit* y el *transform* para crear las 3 columnas resultantes, se añaden al dataset, se elimina la columna de partida *smoker* y se renombran las columnas."
      ]
    },
    {
      "cell_type": "code",
      "execution_count": 44,
      "id": "cm1FPaPLnXXS",
      "metadata": {
        "colab": {
          "base_uri": "https://localhost:8080/"
        },
        "id": "cm1FPaPLnXXS",
        "outputId": "ad04279f-400c-43ed-fd4a-722ab3e00ccc"
      },
      "outputs": [
        {
          "name": "stdout",
          "output_type": "stream",
          "text": [
            "<class 'pandas.core.frame.DataFrame'>\n",
            "RangeIndex: 1338 entries, 0 to 1337\n",
            "Data columns (total 10 columns):\n",
            " #   Column      Non-Null Count  Dtype  \n",
            "---  ------      --------------  -----  \n",
            " 0   index       1338 non-null   int64  \n",
            " 1   age         1338 non-null   float64\n",
            " 2   sex         1338 non-null   object \n",
            " 3   bmi         1338 non-null   float64\n",
            " 4   children    1338 non-null   int64  \n",
            " 5   region      1338 non-null   object \n",
            " 6   charges     1338 non-null   float64\n",
            " 7   Non smoker  1338 non-null   float64\n",
            " 8   Smoker      1338 non-null   float64\n",
            " 9   nan         1338 non-null   float64\n",
            "dtypes: float64(6), int64(2), object(2)\n",
            "memory usage: 104.7+ KB\n"
          ]
        }
      ],
      "source": [
        "backup = seguro.copy();\n",
        "\n",
        "seguro.reset_index(drop=False, inplace=True);\n",
        "\n",
        "#juntar columnas\n",
        "seguro = seguro.join(pd.DataFrame(seguro_cat_1hot, columns=[cat for cat in cat_encoder.categories_[0]]))\n",
        "seguro=seguro.drop([\"smoker\"], axis=1);\n",
        "seguro=seguro.rename(columns={\"no\":\"Non smoker\", \"yes\":\"Smoker\"});\n",
        "seguro.info()"
      ]
    },
    {
      "cell_type": "markdown",
      "id": "FB464dys3rps",
      "metadata": {
        "id": "FB464dys3rps"
      },
      "source": [
        "La columna *NaN* sigue teniendo la fila 681 con el valor 1, que representa el último valor nulo que queda en el dataset. Para solucionarlo hacemos los  siguientes tres pasos:"
      ]
    },
    {
      "cell_type": "code",
      "execution_count": 45,
      "id": "z2p_dUGoprt1",
      "metadata": {
        "colab": {
          "base_uri": "https://localhost:8080/"
        },
        "id": "z2p_dUGoprt1",
        "outputId": "a9654a49-2a44-4043-a0be-c0ea21c2bf93"
      },
      "outputs": [
        {
          "data": {
            "text/plain": [
              "index               681\n",
              "age                19.0\n",
              "sex                male\n",
              "bmi                20.3\n",
              "children              0\n",
              "region        southwest\n",
              "charges         1242.26\n",
              "Non smoker          0.0\n",
              "Smoker              0.0\n",
              "NaN                 1.0\n",
              "Name: 681, dtype: object"
            ]
          },
          "execution_count": 45,
          "metadata": {},
          "output_type": "execute_result"
        }
      ],
      "source": [
        "seguro.iloc[681]"
      ]
    },
    {
      "cell_type": "markdown",
      "id": "YFjanNAeJr6X",
      "metadata": {
        "id": "YFjanNAeJr6X"
      },
      "source": [
        "**1º** calcular mediana de *Smoker*"
      ]
    },
    {
      "cell_type": "code",
      "execution_count": 46,
      "id": "Z001kvEo2IOJ",
      "metadata": {
        "colab": {
          "base_uri": "https://localhost:8080/"
        },
        "id": "Z001kvEo2IOJ",
        "outputId": "516b5262-6dbc-4cf8-8126-34a93469092f"
      },
      "outputs": [
        {
          "data": {
            "text/plain": [
              "0.0"
            ]
          },
          "execution_count": 46,
          "metadata": {},
          "output_type": "execute_result"
        }
      ],
      "source": [
        "median = seguro[\"Smoker\"].median();\n",
        "median"
      ]
    },
    {
      "cell_type": "markdown",
      "id": "52a5CW3p6Qqd",
      "metadata": {
        "id": "52a5CW3p6Qqd"
      },
      "source": [
        "**2º** La mediana es 0, por lo tanto en la fila 681 de la columna *Non Smoker* ponemos un 1."
      ]
    },
    {
      "cell_type": "markdown",
      "id": "xJ7jZ17SIsiV",
      "metadata": {
        "id": "xJ7jZ17SIsiV"
      },
      "source": [
        "Con *at* accedemos a un solo valor del dataset, indicando el índice y el nombre de la columna."
      ]
    },
    {
      "cell_type": "code",
      "execution_count": 47,
      "id": "pVzAvaq9GTDJ",
      "metadata": {
        "colab": {
          "base_uri": "https://localhost:8080/"
        },
        "id": "pVzAvaq9GTDJ",
        "outputId": "69eb30b0-ca7c-4c02-95c1-5086fd38fea8"
      },
      "outputs": [
        {
          "data": {
            "text/plain": [
              "0.0"
            ]
          },
          "execution_count": 47,
          "metadata": {},
          "output_type": "execute_result"
        }
      ],
      "source": [
        "seguro.at[681,\"Non smoker\"]"
      ]
    },
    {
      "cell_type": "code",
      "execution_count": 48,
      "id": "JOur0pbx6ON4",
      "metadata": {
        "colab": {
          "base_uri": "https://localhost:8080/"
        },
        "id": "JOur0pbx6ON4",
        "outputId": "b19d3862-608d-4530-9e2f-a692f825a4c1"
      },
      "outputs": [
        {
          "data": {
            "text/plain": [
              "1.0"
            ]
          },
          "execution_count": 48,
          "metadata": {},
          "output_type": "execute_result"
        }
      ],
      "source": [
        "seguro.at[681,\"Non smoker\"] = 1\n",
        "seguro.at[681,\"Non smoker\"]"
      ]
    },
    {
      "cell_type": "markdown",
      "id": "a0a-ODFEMsaZ",
      "metadata": {
        "id": "a0a-ODFEMsaZ"
      },
      "source": [
        "El valor de la fila ha cambiado."
      ]
    },
    {
      "cell_type": "code",
      "execution_count": 49,
      "id": "EfsZ0lX0MwlP",
      "metadata": {
        "colab": {
          "base_uri": "https://localhost:8080/"
        },
        "id": "EfsZ0lX0MwlP",
        "outputId": "dff40006-321b-4905-d2c4-5c89ec48ad2a"
      },
      "outputs": [
        {
          "data": {
            "text/plain": [
              "index               681\n",
              "age                19.0\n",
              "sex                male\n",
              "bmi                20.3\n",
              "children              0\n",
              "region        southwest\n",
              "charges         1242.26\n",
              "Non smoker          1.0\n",
              "Smoker              0.0\n",
              "NaN                 1.0\n",
              "Name: 681, dtype: object"
            ]
          },
          "execution_count": 49,
          "metadata": {},
          "output_type": "execute_result"
        }
      ],
      "source": [
        "seguro.iloc[681]"
      ]
    },
    {
      "cell_type": "markdown",
      "id": "oVx9ynOtNCZz",
      "metadata": {
        "id": "oVx9ynOtNCZz"
      },
      "source": [
        "**3º** Ahora ya podemos eliminar la columna de nulos *NaN*:"
      ]
    },
    {
      "cell_type": "code",
      "execution_count": 50,
      "id": "16PgRwwxR6uJ",
      "metadata": {
        "colab": {
          "base_uri": "https://localhost:8080/",
          "height": 423
        },
        "id": "16PgRwwxR6uJ",
        "outputId": "21091464-5fdc-4497-85de-572b7ca7d193"
      },
      "outputs": [
        {
          "data": {
            "text/html": [
              "\n",
              "  <div id=\"df-d4e662d5-a523-4c13-8725-0dd93ebdf119\">\n",
              "    <div class=\"colab-df-container\">\n",
              "      <div>\n",
              "<style scoped>\n",
              "    .dataframe tbody tr th:only-of-type {\n",
              "        vertical-align: middle;\n",
              "    }\n",
              "\n",
              "    .dataframe tbody tr th {\n",
              "        vertical-align: top;\n",
              "    }\n",
              "\n",
              "    .dataframe thead th {\n",
              "        text-align: right;\n",
              "    }\n",
              "</style>\n",
              "<table border=\"1\" class=\"dataframe\">\n",
              "  <thead>\n",
              "    <tr style=\"text-align: right;\">\n",
              "      <th></th>\n",
              "      <th>index</th>\n",
              "      <th>age</th>\n",
              "      <th>sex</th>\n",
              "      <th>bmi</th>\n",
              "      <th>children</th>\n",
              "      <th>region</th>\n",
              "      <th>charges</th>\n",
              "      <th>Non smoker</th>\n",
              "      <th>Smoker</th>\n",
              "    </tr>\n",
              "  </thead>\n",
              "  <tbody>\n",
              "    <tr>\n",
              "      <th>0</th>\n",
              "      <td>0</td>\n",
              "      <td>19.0</td>\n",
              "      <td>female</td>\n",
              "      <td>27.900</td>\n",
              "      <td>0</td>\n",
              "      <td>southwest</td>\n",
              "      <td>16884.92400</td>\n",
              "      <td>0.0</td>\n",
              "      <td>1.0</td>\n",
              "    </tr>\n",
              "    <tr>\n",
              "      <th>1</th>\n",
              "      <td>1</td>\n",
              "      <td>18.0</td>\n",
              "      <td>male</td>\n",
              "      <td>33.770</td>\n",
              "      <td>1</td>\n",
              "      <td>southeast</td>\n",
              "      <td>1725.55230</td>\n",
              "      <td>1.0</td>\n",
              "      <td>0.0</td>\n",
              "    </tr>\n",
              "    <tr>\n",
              "      <th>2</th>\n",
              "      <td>2</td>\n",
              "      <td>28.0</td>\n",
              "      <td>male</td>\n",
              "      <td>33.000</td>\n",
              "      <td>3</td>\n",
              "      <td>southeast</td>\n",
              "      <td>4449.46200</td>\n",
              "      <td>1.0</td>\n",
              "      <td>0.0</td>\n",
              "    </tr>\n",
              "    <tr>\n",
              "      <th>3</th>\n",
              "      <td>3</td>\n",
              "      <td>33.0</td>\n",
              "      <td>male</td>\n",
              "      <td>22.705</td>\n",
              "      <td>0</td>\n",
              "      <td>northwest</td>\n",
              "      <td>21984.47061</td>\n",
              "      <td>1.0</td>\n",
              "      <td>0.0</td>\n",
              "    </tr>\n",
              "    <tr>\n",
              "      <th>4</th>\n",
              "      <td>4</td>\n",
              "      <td>32.0</td>\n",
              "      <td>male</td>\n",
              "      <td>28.880</td>\n",
              "      <td>0</td>\n",
              "      <td>northwest</td>\n",
              "      <td>3866.85520</td>\n",
              "      <td>1.0</td>\n",
              "      <td>0.0</td>\n",
              "    </tr>\n",
              "    <tr>\n",
              "      <th>...</th>\n",
              "      <td>...</td>\n",
              "      <td>...</td>\n",
              "      <td>...</td>\n",
              "      <td>...</td>\n",
              "      <td>...</td>\n",
              "      <td>...</td>\n",
              "      <td>...</td>\n",
              "      <td>...</td>\n",
              "      <td>...</td>\n",
              "    </tr>\n",
              "    <tr>\n",
              "      <th>1333</th>\n",
              "      <td>1333</td>\n",
              "      <td>50.0</td>\n",
              "      <td>male</td>\n",
              "      <td>30.970</td>\n",
              "      <td>3</td>\n",
              "      <td>northwest</td>\n",
              "      <td>10600.54830</td>\n",
              "      <td>1.0</td>\n",
              "      <td>0.0</td>\n",
              "    </tr>\n",
              "    <tr>\n",
              "      <th>1334</th>\n",
              "      <td>1334</td>\n",
              "      <td>18.0</td>\n",
              "      <td>female</td>\n",
              "      <td>31.920</td>\n",
              "      <td>0</td>\n",
              "      <td>northeast</td>\n",
              "      <td>2205.98080</td>\n",
              "      <td>1.0</td>\n",
              "      <td>0.0</td>\n",
              "    </tr>\n",
              "    <tr>\n",
              "      <th>1335</th>\n",
              "      <td>1335</td>\n",
              "      <td>18.0</td>\n",
              "      <td>female</td>\n",
              "      <td>36.850</td>\n",
              "      <td>0</td>\n",
              "      <td>southeast</td>\n",
              "      <td>1629.83350</td>\n",
              "      <td>1.0</td>\n",
              "      <td>0.0</td>\n",
              "    </tr>\n",
              "    <tr>\n",
              "      <th>1336</th>\n",
              "      <td>1336</td>\n",
              "      <td>21.0</td>\n",
              "      <td>female</td>\n",
              "      <td>25.800</td>\n",
              "      <td>0</td>\n",
              "      <td>southwest</td>\n",
              "      <td>2007.94500</td>\n",
              "      <td>1.0</td>\n",
              "      <td>0.0</td>\n",
              "    </tr>\n",
              "    <tr>\n",
              "      <th>1337</th>\n",
              "      <td>1337</td>\n",
              "      <td>61.0</td>\n",
              "      <td>female</td>\n",
              "      <td>30.400</td>\n",
              "      <td>0</td>\n",
              "      <td>northwest</td>\n",
              "      <td>29141.36030</td>\n",
              "      <td>0.0</td>\n",
              "      <td>1.0</td>\n",
              "    </tr>\n",
              "  </tbody>\n",
              "</table>\n",
              "<p>1338 rows × 9 columns</p>\n",
              "</div>\n",
              "      <button class=\"colab-df-convert\" onclick=\"convertToInteractive('df-d4e662d5-a523-4c13-8725-0dd93ebdf119')\"\n",
              "              title=\"Convert this dataframe to an interactive table.\"\n",
              "              style=\"display:none;\">\n",
              "        \n",
              "  <svg xmlns=\"http://www.w3.org/2000/svg\" height=\"24px\"viewBox=\"0 0 24 24\"\n",
              "       width=\"24px\">\n",
              "    <path d=\"M0 0h24v24H0V0z\" fill=\"none\"/>\n",
              "    <path d=\"M18.56 5.44l.94 2.06.94-2.06 2.06-.94-2.06-.94-.94-2.06-.94 2.06-2.06.94zm-11 1L8.5 8.5l.94-2.06 2.06-.94-2.06-.94L8.5 2.5l-.94 2.06-2.06.94zm10 10l.94 2.06.94-2.06 2.06-.94-2.06-.94-.94-2.06-.94 2.06-2.06.94z\"/><path d=\"M17.41 7.96l-1.37-1.37c-.4-.4-.92-.59-1.43-.59-.52 0-1.04.2-1.43.59L10.3 9.45l-7.72 7.72c-.78.78-.78 2.05 0 2.83L4 21.41c.39.39.9.59 1.41.59.51 0 1.02-.2 1.41-.59l7.78-7.78 2.81-2.81c.8-.78.8-2.07 0-2.86zM5.41 20L4 18.59l7.72-7.72 1.47 1.35L5.41 20z\"/>\n",
              "  </svg>\n",
              "      </button>\n",
              "      \n",
              "  <style>\n",
              "    .colab-df-container {\n",
              "      display:flex;\n",
              "      flex-wrap:wrap;\n",
              "      gap: 12px;\n",
              "    }\n",
              "\n",
              "    .colab-df-convert {\n",
              "      background-color: #E8F0FE;\n",
              "      border: none;\n",
              "      border-radius: 50%;\n",
              "      cursor: pointer;\n",
              "      display: none;\n",
              "      fill: #1967D2;\n",
              "      height: 32px;\n",
              "      padding: 0 0 0 0;\n",
              "      width: 32px;\n",
              "    }\n",
              "\n",
              "    .colab-df-convert:hover {\n",
              "      background-color: #E2EBFA;\n",
              "      box-shadow: 0px 1px 2px rgba(60, 64, 67, 0.3), 0px 1px 3px 1px rgba(60, 64, 67, 0.15);\n",
              "      fill: #174EA6;\n",
              "    }\n",
              "\n",
              "    [theme=dark] .colab-df-convert {\n",
              "      background-color: #3B4455;\n",
              "      fill: #D2E3FC;\n",
              "    }\n",
              "\n",
              "    [theme=dark] .colab-df-convert:hover {\n",
              "      background-color: #434B5C;\n",
              "      box-shadow: 0px 1px 3px 1px rgba(0, 0, 0, 0.15);\n",
              "      filter: drop-shadow(0px 1px 2px rgba(0, 0, 0, 0.3));\n",
              "      fill: #FFFFFF;\n",
              "    }\n",
              "  </style>\n",
              "\n",
              "      <script>\n",
              "        const buttonEl =\n",
              "          document.querySelector('#df-d4e662d5-a523-4c13-8725-0dd93ebdf119 button.colab-df-convert');\n",
              "        buttonEl.style.display =\n",
              "          google.colab.kernel.accessAllowed ? 'block' : 'none';\n",
              "\n",
              "        async function convertToInteractive(key) {\n",
              "          const element = document.querySelector('#df-d4e662d5-a523-4c13-8725-0dd93ebdf119');\n",
              "          const dataTable =\n",
              "            await google.colab.kernel.invokeFunction('convertToInteractive',\n",
              "                                                     [key], {});\n",
              "          if (!dataTable) return;\n",
              "\n",
              "          const docLinkHtml = 'Like what you see? Visit the ' +\n",
              "            '<a target=\"_blank\" href=https://colab.research.google.com/notebooks/data_table.ipynb>data table notebook</a>'\n",
              "            + ' to learn more about interactive tables.';\n",
              "          element.innerHTML = '';\n",
              "          dataTable['output_type'] = 'display_data';\n",
              "          await google.colab.output.renderOutput(dataTable, element);\n",
              "          const docLink = document.createElement('div');\n",
              "          docLink.innerHTML = docLinkHtml;\n",
              "          element.appendChild(docLink);\n",
              "        }\n",
              "      </script>\n",
              "    </div>\n",
              "  </div>\n",
              "  "
            ],
            "text/plain": [
              "      index   age     sex     bmi  children     region      charges  \\\n",
              "0         0  19.0  female  27.900         0  southwest  16884.92400   \n",
              "1         1  18.0    male  33.770         1  southeast   1725.55230   \n",
              "2         2  28.0    male  33.000         3  southeast   4449.46200   \n",
              "3         3  33.0    male  22.705         0  northwest  21984.47061   \n",
              "4         4  32.0    male  28.880         0  northwest   3866.85520   \n",
              "...     ...   ...     ...     ...       ...        ...          ...   \n",
              "1333   1333  50.0    male  30.970         3  northwest  10600.54830   \n",
              "1334   1334  18.0  female  31.920         0  northeast   2205.98080   \n",
              "1335   1335  18.0  female  36.850         0  southeast   1629.83350   \n",
              "1336   1336  21.0  female  25.800         0  southwest   2007.94500   \n",
              "1337   1337  61.0  female  30.400         0  northwest  29141.36030   \n",
              "\n",
              "      Non smoker  Smoker  \n",
              "0            0.0     1.0  \n",
              "1            1.0     0.0  \n",
              "2            1.0     0.0  \n",
              "3            1.0     0.0  \n",
              "4            1.0     0.0  \n",
              "...          ...     ...  \n",
              "1333         1.0     0.0  \n",
              "1334         1.0     0.0  \n",
              "1335         1.0     0.0  \n",
              "1336         1.0     0.0  \n",
              "1337         0.0     1.0  \n",
              "\n",
              "[1338 rows x 9 columns]"
            ]
          },
          "execution_count": 50,
          "metadata": {},
          "output_type": "execute_result"
        }
      ],
      "source": [
        "seguro=seguro.drop(seguro.columns[9], axis=1)\n",
        "seguro"
      ]
    },
    {
      "cell_type": "code",
      "execution_count": 51,
      "id": "MEOXSyE5hJ4R",
      "metadata": {
        "id": "MEOXSyE5hJ4R"
      },
      "outputs": [],
      "source": [
        "backup = seguro.copy();"
      ]
    },
    {
      "cell_type": "markdown",
      "id": "_1qCEyinUNwY",
      "metadata": {
        "id": "_1qCEyinUNwY"
      },
      "source": [
        "### Aplicamos el método *OneHotEncoder* a las columnas **sex** y **region**"
      ]
    },
    {
      "cell_type": "code",
      "execution_count": 52,
      "id": "xaHKxUt4U8Px",
      "metadata": {
        "colab": {
          "base_uri": "https://localhost:8080/",
          "height": 423
        },
        "id": "xaHKxUt4U8Px",
        "outputId": "45b79429-b957-4917-c34a-d36060757ee9"
      },
      "outputs": [
        {
          "data": {
            "text/html": [
              "\n",
              "  <div id=\"df-6f4c970b-f577-4f1d-8ae7-eb5e2fbd1a27\">\n",
              "    <div class=\"colab-df-container\">\n",
              "      <div>\n",
              "<style scoped>\n",
              "    .dataframe tbody tr th:only-of-type {\n",
              "        vertical-align: middle;\n",
              "    }\n",
              "\n",
              "    .dataframe tbody tr th {\n",
              "        vertical-align: top;\n",
              "    }\n",
              "\n",
              "    .dataframe thead th {\n",
              "        text-align: right;\n",
              "    }\n",
              "</style>\n",
              "<table border=\"1\" class=\"dataframe\">\n",
              "  <thead>\n",
              "    <tr style=\"text-align: right;\">\n",
              "      <th></th>\n",
              "      <th>sex</th>\n",
              "    </tr>\n",
              "  </thead>\n",
              "  <tbody>\n",
              "    <tr>\n",
              "      <th>0</th>\n",
              "      <td>female</td>\n",
              "    </tr>\n",
              "    <tr>\n",
              "      <th>1</th>\n",
              "      <td>male</td>\n",
              "    </tr>\n",
              "    <tr>\n",
              "      <th>2</th>\n",
              "      <td>male</td>\n",
              "    </tr>\n",
              "    <tr>\n",
              "      <th>3</th>\n",
              "      <td>male</td>\n",
              "    </tr>\n",
              "    <tr>\n",
              "      <th>4</th>\n",
              "      <td>male</td>\n",
              "    </tr>\n",
              "    <tr>\n",
              "      <th>...</th>\n",
              "      <td>...</td>\n",
              "    </tr>\n",
              "    <tr>\n",
              "      <th>1333</th>\n",
              "      <td>male</td>\n",
              "    </tr>\n",
              "    <tr>\n",
              "      <th>1334</th>\n",
              "      <td>female</td>\n",
              "    </tr>\n",
              "    <tr>\n",
              "      <th>1335</th>\n",
              "      <td>female</td>\n",
              "    </tr>\n",
              "    <tr>\n",
              "      <th>1336</th>\n",
              "      <td>female</td>\n",
              "    </tr>\n",
              "    <tr>\n",
              "      <th>1337</th>\n",
              "      <td>female</td>\n",
              "    </tr>\n",
              "  </tbody>\n",
              "</table>\n",
              "<p>1338 rows × 1 columns</p>\n",
              "</div>\n",
              "      <button class=\"colab-df-convert\" onclick=\"convertToInteractive('df-6f4c970b-f577-4f1d-8ae7-eb5e2fbd1a27')\"\n",
              "              title=\"Convert this dataframe to an interactive table.\"\n",
              "              style=\"display:none;\">\n",
              "        \n",
              "  <svg xmlns=\"http://www.w3.org/2000/svg\" height=\"24px\"viewBox=\"0 0 24 24\"\n",
              "       width=\"24px\">\n",
              "    <path d=\"M0 0h24v24H0V0z\" fill=\"none\"/>\n",
              "    <path d=\"M18.56 5.44l.94 2.06.94-2.06 2.06-.94-2.06-.94-.94-2.06-.94 2.06-2.06.94zm-11 1L8.5 8.5l.94-2.06 2.06-.94-2.06-.94L8.5 2.5l-.94 2.06-2.06.94zm10 10l.94 2.06.94-2.06 2.06-.94-2.06-.94-.94-2.06-.94 2.06-2.06.94z\"/><path d=\"M17.41 7.96l-1.37-1.37c-.4-.4-.92-.59-1.43-.59-.52 0-1.04.2-1.43.59L10.3 9.45l-7.72 7.72c-.78.78-.78 2.05 0 2.83L4 21.41c.39.39.9.59 1.41.59.51 0 1.02-.2 1.41-.59l7.78-7.78 2.81-2.81c.8-.78.8-2.07 0-2.86zM5.41 20L4 18.59l7.72-7.72 1.47 1.35L5.41 20z\"/>\n",
              "  </svg>\n",
              "      </button>\n",
              "      \n",
              "  <style>\n",
              "    .colab-df-container {\n",
              "      display:flex;\n",
              "      flex-wrap:wrap;\n",
              "      gap: 12px;\n",
              "    }\n",
              "\n",
              "    .colab-df-convert {\n",
              "      background-color: #E8F0FE;\n",
              "      border: none;\n",
              "      border-radius: 50%;\n",
              "      cursor: pointer;\n",
              "      display: none;\n",
              "      fill: #1967D2;\n",
              "      height: 32px;\n",
              "      padding: 0 0 0 0;\n",
              "      width: 32px;\n",
              "    }\n",
              "\n",
              "    .colab-df-convert:hover {\n",
              "      background-color: #E2EBFA;\n",
              "      box-shadow: 0px 1px 2px rgba(60, 64, 67, 0.3), 0px 1px 3px 1px rgba(60, 64, 67, 0.15);\n",
              "      fill: #174EA6;\n",
              "    }\n",
              "\n",
              "    [theme=dark] .colab-df-convert {\n",
              "      background-color: #3B4455;\n",
              "      fill: #D2E3FC;\n",
              "    }\n",
              "\n",
              "    [theme=dark] .colab-df-convert:hover {\n",
              "      background-color: #434B5C;\n",
              "      box-shadow: 0px 1px 3px 1px rgba(0, 0, 0, 0.15);\n",
              "      filter: drop-shadow(0px 1px 2px rgba(0, 0, 0, 0.3));\n",
              "      fill: #FFFFFF;\n",
              "    }\n",
              "  </style>\n",
              "\n",
              "      <script>\n",
              "        const buttonEl =\n",
              "          document.querySelector('#df-6f4c970b-f577-4f1d-8ae7-eb5e2fbd1a27 button.colab-df-convert');\n",
              "        buttonEl.style.display =\n",
              "          google.colab.kernel.accessAllowed ? 'block' : 'none';\n",
              "\n",
              "        async function convertToInteractive(key) {\n",
              "          const element = document.querySelector('#df-6f4c970b-f577-4f1d-8ae7-eb5e2fbd1a27');\n",
              "          const dataTable =\n",
              "            await google.colab.kernel.invokeFunction('convertToInteractive',\n",
              "                                                     [key], {});\n",
              "          if (!dataTable) return;\n",
              "\n",
              "          const docLinkHtml = 'Like what you see? Visit the ' +\n",
              "            '<a target=\"_blank\" href=https://colab.research.google.com/notebooks/data_table.ipynb>data table notebook</a>'\n",
              "            + ' to learn more about interactive tables.';\n",
              "          element.innerHTML = '';\n",
              "          dataTable['output_type'] = 'display_data';\n",
              "          await google.colab.output.renderOutput(dataTable, element);\n",
              "          const docLink = document.createElement('div');\n",
              "          docLink.innerHTML = docLinkHtml;\n",
              "          element.appendChild(docLink);\n",
              "        }\n",
              "      </script>\n",
              "    </div>\n",
              "  </div>\n",
              "  "
            ],
            "text/plain": [
              "         sex\n",
              "0     female\n",
              "1       male\n",
              "2       male\n",
              "3       male\n",
              "4       male\n",
              "...      ...\n",
              "1333    male\n",
              "1334  female\n",
              "1335  female\n",
              "1336  female\n",
              "1337  female\n",
              "\n",
              "[1338 rows x 1 columns]"
            ]
          },
          "execution_count": 52,
          "metadata": {},
          "output_type": "execute_result"
        }
      ],
      "source": [
        "sex_cat = seguro[ [\"sex\"] ]\n",
        "\n",
        "sex_cat"
      ]
    },
    {
      "cell_type": "code",
      "execution_count": 53,
      "id": "9KUVFmHkbI4Y",
      "metadata": {
        "colab": {
          "base_uri": "https://localhost:8080/",
          "height": 423
        },
        "id": "9KUVFmHkbI4Y",
        "outputId": "edcaa0fe-f664-4ab5-d736-5699421771b3"
      },
      "outputs": [
        {
          "data": {
            "text/html": [
              "\n",
              "  <div id=\"df-72375d8c-f48b-4fae-8734-3ddbc284b4fa\">\n",
              "    <div class=\"colab-df-container\">\n",
              "      <div>\n",
              "<style scoped>\n",
              "    .dataframe tbody tr th:only-of-type {\n",
              "        vertical-align: middle;\n",
              "    }\n",
              "\n",
              "    .dataframe tbody tr th {\n",
              "        vertical-align: top;\n",
              "    }\n",
              "\n",
              "    .dataframe thead th {\n",
              "        text-align: right;\n",
              "    }\n",
              "</style>\n",
              "<table border=\"1\" class=\"dataframe\">\n",
              "  <thead>\n",
              "    <tr style=\"text-align: right;\">\n",
              "      <th></th>\n",
              "      <th>region</th>\n",
              "    </tr>\n",
              "  </thead>\n",
              "  <tbody>\n",
              "    <tr>\n",
              "      <th>0</th>\n",
              "      <td>southwest</td>\n",
              "    </tr>\n",
              "    <tr>\n",
              "      <th>1</th>\n",
              "      <td>southeast</td>\n",
              "    </tr>\n",
              "    <tr>\n",
              "      <th>2</th>\n",
              "      <td>southeast</td>\n",
              "    </tr>\n",
              "    <tr>\n",
              "      <th>3</th>\n",
              "      <td>northwest</td>\n",
              "    </tr>\n",
              "    <tr>\n",
              "      <th>4</th>\n",
              "      <td>northwest</td>\n",
              "    </tr>\n",
              "    <tr>\n",
              "      <th>...</th>\n",
              "      <td>...</td>\n",
              "    </tr>\n",
              "    <tr>\n",
              "      <th>1333</th>\n",
              "      <td>northwest</td>\n",
              "    </tr>\n",
              "    <tr>\n",
              "      <th>1334</th>\n",
              "      <td>northeast</td>\n",
              "    </tr>\n",
              "    <tr>\n",
              "      <th>1335</th>\n",
              "      <td>southeast</td>\n",
              "    </tr>\n",
              "    <tr>\n",
              "      <th>1336</th>\n",
              "      <td>southwest</td>\n",
              "    </tr>\n",
              "    <tr>\n",
              "      <th>1337</th>\n",
              "      <td>northwest</td>\n",
              "    </tr>\n",
              "  </tbody>\n",
              "</table>\n",
              "<p>1338 rows × 1 columns</p>\n",
              "</div>\n",
              "      <button class=\"colab-df-convert\" onclick=\"convertToInteractive('df-72375d8c-f48b-4fae-8734-3ddbc284b4fa')\"\n",
              "              title=\"Convert this dataframe to an interactive table.\"\n",
              "              style=\"display:none;\">\n",
              "        \n",
              "  <svg xmlns=\"http://www.w3.org/2000/svg\" height=\"24px\"viewBox=\"0 0 24 24\"\n",
              "       width=\"24px\">\n",
              "    <path d=\"M0 0h24v24H0V0z\" fill=\"none\"/>\n",
              "    <path d=\"M18.56 5.44l.94 2.06.94-2.06 2.06-.94-2.06-.94-.94-2.06-.94 2.06-2.06.94zm-11 1L8.5 8.5l.94-2.06 2.06-.94-2.06-.94L8.5 2.5l-.94 2.06-2.06.94zm10 10l.94 2.06.94-2.06 2.06-.94-2.06-.94-.94-2.06-.94 2.06-2.06.94z\"/><path d=\"M17.41 7.96l-1.37-1.37c-.4-.4-.92-.59-1.43-.59-.52 0-1.04.2-1.43.59L10.3 9.45l-7.72 7.72c-.78.78-.78 2.05 0 2.83L4 21.41c.39.39.9.59 1.41.59.51 0 1.02-.2 1.41-.59l7.78-7.78 2.81-2.81c.8-.78.8-2.07 0-2.86zM5.41 20L4 18.59l7.72-7.72 1.47 1.35L5.41 20z\"/>\n",
              "  </svg>\n",
              "      </button>\n",
              "      \n",
              "  <style>\n",
              "    .colab-df-container {\n",
              "      display:flex;\n",
              "      flex-wrap:wrap;\n",
              "      gap: 12px;\n",
              "    }\n",
              "\n",
              "    .colab-df-convert {\n",
              "      background-color: #E8F0FE;\n",
              "      border: none;\n",
              "      border-radius: 50%;\n",
              "      cursor: pointer;\n",
              "      display: none;\n",
              "      fill: #1967D2;\n",
              "      height: 32px;\n",
              "      padding: 0 0 0 0;\n",
              "      width: 32px;\n",
              "    }\n",
              "\n",
              "    .colab-df-convert:hover {\n",
              "      background-color: #E2EBFA;\n",
              "      box-shadow: 0px 1px 2px rgba(60, 64, 67, 0.3), 0px 1px 3px 1px rgba(60, 64, 67, 0.15);\n",
              "      fill: #174EA6;\n",
              "    }\n",
              "\n",
              "    [theme=dark] .colab-df-convert {\n",
              "      background-color: #3B4455;\n",
              "      fill: #D2E3FC;\n",
              "    }\n",
              "\n",
              "    [theme=dark] .colab-df-convert:hover {\n",
              "      background-color: #434B5C;\n",
              "      box-shadow: 0px 1px 3px 1px rgba(0, 0, 0, 0.15);\n",
              "      filter: drop-shadow(0px 1px 2px rgba(0, 0, 0, 0.3));\n",
              "      fill: #FFFFFF;\n",
              "    }\n",
              "  </style>\n",
              "\n",
              "      <script>\n",
              "        const buttonEl =\n",
              "          document.querySelector('#df-72375d8c-f48b-4fae-8734-3ddbc284b4fa button.colab-df-convert');\n",
              "        buttonEl.style.display =\n",
              "          google.colab.kernel.accessAllowed ? 'block' : 'none';\n",
              "\n",
              "        async function convertToInteractive(key) {\n",
              "          const element = document.querySelector('#df-72375d8c-f48b-4fae-8734-3ddbc284b4fa');\n",
              "          const dataTable =\n",
              "            await google.colab.kernel.invokeFunction('convertToInteractive',\n",
              "                                                     [key], {});\n",
              "          if (!dataTable) return;\n",
              "\n",
              "          const docLinkHtml = 'Like what you see? Visit the ' +\n",
              "            '<a target=\"_blank\" href=https://colab.research.google.com/notebooks/data_table.ipynb>data table notebook</a>'\n",
              "            + ' to learn more about interactive tables.';\n",
              "          element.innerHTML = '';\n",
              "          dataTable['output_type'] = 'display_data';\n",
              "          await google.colab.output.renderOutput(dataTable, element);\n",
              "          const docLink = document.createElement('div');\n",
              "          docLink.innerHTML = docLinkHtml;\n",
              "          element.appendChild(docLink);\n",
              "        }\n",
              "      </script>\n",
              "    </div>\n",
              "  </div>\n",
              "  "
            ],
            "text/plain": [
              "         region\n",
              "0     southwest\n",
              "1     southeast\n",
              "2     southeast\n",
              "3     northwest\n",
              "4     northwest\n",
              "...         ...\n",
              "1333  northwest\n",
              "1334  northeast\n",
              "1335  southeast\n",
              "1336  southwest\n",
              "1337  northwest\n",
              "\n",
              "[1338 rows x 1 columns]"
            ]
          },
          "execution_count": 53,
          "metadata": {},
          "output_type": "execute_result"
        }
      ],
      "source": [
        "region_cat = seguro[ [\"region\"] ]\n",
        "\n",
        "region_cat.value_counts() # 4 tipos de region: southeast,northwest,southwest,northeast\n",
        "region_cat"
      ]
    },
    {
      "cell_type": "markdown",
      "id": "w9MYxgl_hwNh",
      "metadata": {
        "id": "w9MYxgl_hwNh"
      },
      "source": [
        "COLUMNA **sex**-> resultado: 2 nuevas columnas **male** y **female**."
      ]
    },
    {
      "cell_type": "code",
      "execution_count": 54,
      "id": "GamxfacnU70s",
      "metadata": {
        "colab": {
          "base_uri": "https://localhost:8080/"
        },
        "id": "GamxfacnU70s",
        "outputId": "62d2c4e5-8914-4efa-c432-500dcd2b3816"
      },
      "outputs": [
        {
          "data": {
            "text/plain": [
              "array([[1., 0.],\n",
              "       [0., 1.],\n",
              "       [0., 1.],\n",
              "       ...,\n",
              "       [1., 0.],\n",
              "       [1., 0.],\n",
              "       [1., 0.]])"
            ]
          },
          "execution_count": 54,
          "metadata": {},
          "output_type": "execute_result"
        }
      ],
      "source": [
        "from sklearn.preprocessing import OneHotEncoder;\n",
        "\n",
        "cat_encoder = OneHotEncoder(sparse=False);\n",
        "sex_cat_1hot = cat_encoder.fit_transform(sex_cat)\n",
        "\n",
        "sex_cat_1hot"
      ]
    },
    {
      "attachments": {},
      "cell_type": "markdown",
      "id": "58bc9033",
      "metadata": {},
      "source": [
        "Con *join()* se añaden las 2 nuevas columnas al dataset y con *drop()* se elimina la columna de partida sex.\n"
      ]
    },
    {
      "cell_type": "code",
      "execution_count": 55,
      "id": "GJYwcPXkU7el",
      "metadata": {
        "colab": {
          "base_uri": "https://localhost:8080/"
        },
        "id": "GJYwcPXkU7el",
        "outputId": "1b63fbbd-5657-485a-aced-a57791bab850"
      },
      "outputs": [
        {
          "name": "stdout",
          "output_type": "stream",
          "text": [
            "<class 'pandas.core.frame.DataFrame'>\n",
            "RangeIndex: 1338 entries, 0 to 1337\n",
            "Data columns (total 11 columns):\n",
            " #   Column      Non-Null Count  Dtype  \n",
            "---  ------      --------------  -----  \n",
            " 0   level_0     1338 non-null   int64  \n",
            " 1   index       1338 non-null   int64  \n",
            " 2   age         1338 non-null   float64\n",
            " 3   bmi         1338 non-null   float64\n",
            " 4   children    1338 non-null   int64  \n",
            " 5   region      1338 non-null   object \n",
            " 6   charges     1338 non-null   float64\n",
            " 7   Non smoker  1338 non-null   float64\n",
            " 8   Smoker      1338 non-null   float64\n",
            " 9   female      1338 non-null   float64\n",
            " 10  male        1338 non-null   float64\n",
            "dtypes: float64(7), int64(3), object(1)\n",
            "memory usage: 115.1+ KB\n"
          ]
        }
      ],
      "source": [
        "backup = seguro.copy();\n",
        "\n",
        "seguro.reset_index(drop=False, inplace=True);\n",
        "\n",
        "seguro = seguro.join(pd.DataFrame(sex_cat_1hot, columns=[cat for cat in cat_encoder.categories_[0]]))\n",
        "seguro=seguro.drop([\"sex\"], axis=1);\n",
        "seguro.info()"
      ]
    },
    {
      "cell_type": "markdown",
      "id": "zFBgFBRVf5hH",
      "metadata": {
        "id": "zFBgFBRVf5hH"
      },
      "source": [
        "COLUMNA **region** -> resultado: 4 nuevas columnas **northeast**, **northwest**, **southeast** y **southwest**."
      ]
    },
    {
      "cell_type": "code",
      "execution_count": 56,
      "id": "q7Bbj1fybvGU",
      "metadata": {
        "colab": {
          "base_uri": "https://localhost:8080/"
        },
        "id": "q7Bbj1fybvGU",
        "outputId": "84e2bc9e-9beb-4d17-8f67-075fd246f54e"
      },
      "outputs": [
        {
          "data": {
            "text/plain": [
              "array([[0., 0., 0., 1.],\n",
              "       [0., 0., 1., 0.],\n",
              "       [0., 0., 1., 0.],\n",
              "       ...,\n",
              "       [0., 0., 1., 0.],\n",
              "       [0., 0., 0., 1.],\n",
              "       [0., 1., 0., 0.]])"
            ]
          },
          "execution_count": 56,
          "metadata": {},
          "output_type": "execute_result"
        }
      ],
      "source": [
        "from sklearn.preprocessing import OneHotEncoder;\n",
        "\n",
        "cat_encoder = OneHotEncoder(sparse=False);\n",
        "region_cat_1hot = cat_encoder.fit_transform(region_cat)\n",
        "\n",
        "region_cat_1hot\n",
        "#  4 categorías de region, 4 nuevas columnas"
      ]
    },
    {
      "cell_type": "markdown",
      "id": "ccc3087e",
      "metadata": {},
      "source": []
    },
    {
      "cell_type": "code",
      "execution_count": 64,
      "id": "0YyK3-4tbidW",
      "metadata": {
        "colab": {
          "base_uri": "https://localhost:8080/",
          "height": 423
        },
        "id": "0YyK3-4tbidW",
        "outputId": "5f3c27e4-42ab-424a-c00a-f8a05f8f50e2"
      },
      "outputs": [
        {
          "data": {
            "text/html": [
              "\n",
              "  <div id=\"df-3e30df02-1c93-460e-9a46-e003359ffa47\">\n",
              "    <div class=\"colab-df-container\">\n",
              "      <div>\n",
              "<style scoped>\n",
              "    .dataframe tbody tr th:only-of-type {\n",
              "        vertical-align: middle;\n",
              "    }\n",
              "\n",
              "    .dataframe tbody tr th {\n",
              "        vertical-align: top;\n",
              "    }\n",
              "\n",
              "    .dataframe thead th {\n",
              "        text-align: right;\n",
              "    }\n",
              "</style>\n",
              "<table border=\"1\" class=\"dataframe\">\n",
              "  <thead>\n",
              "    <tr style=\"text-align: right;\">\n",
              "      <th></th>\n",
              "      <th>index</th>\n",
              "      <th>age</th>\n",
              "      <th>bmi</th>\n",
              "      <th>children</th>\n",
              "      <th>charges</th>\n",
              "      <th>Non smoker</th>\n",
              "      <th>Smoker</th>\n",
              "      <th>female</th>\n",
              "      <th>male</th>\n",
              "      <th>northeast</th>\n",
              "      <th>northwest</th>\n",
              "      <th>southeast</th>\n",
              "      <th>southwest</th>\n",
              "    </tr>\n",
              "  </thead>\n",
              "  <tbody>\n",
              "    <tr>\n",
              "      <th>0</th>\n",
              "      <td>0</td>\n",
              "      <td>19.0</td>\n",
              "      <td>27.900</td>\n",
              "      <td>0</td>\n",
              "      <td>16884.92400</td>\n",
              "      <td>0.0</td>\n",
              "      <td>1.0</td>\n",
              "      <td>1.0</td>\n",
              "      <td>0.0</td>\n",
              "      <td>0.0</td>\n",
              "      <td>0.0</td>\n",
              "      <td>0.0</td>\n",
              "      <td>1.0</td>\n",
              "    </tr>\n",
              "    <tr>\n",
              "      <th>1</th>\n",
              "      <td>1</td>\n",
              "      <td>18.0</td>\n",
              "      <td>33.770</td>\n",
              "      <td>1</td>\n",
              "      <td>1725.55230</td>\n",
              "      <td>1.0</td>\n",
              "      <td>0.0</td>\n",
              "      <td>0.0</td>\n",
              "      <td>1.0</td>\n",
              "      <td>0.0</td>\n",
              "      <td>0.0</td>\n",
              "      <td>1.0</td>\n",
              "      <td>0.0</td>\n",
              "    </tr>\n",
              "    <tr>\n",
              "      <th>2</th>\n",
              "      <td>2</td>\n",
              "      <td>28.0</td>\n",
              "      <td>33.000</td>\n",
              "      <td>3</td>\n",
              "      <td>4449.46200</td>\n",
              "      <td>1.0</td>\n",
              "      <td>0.0</td>\n",
              "      <td>0.0</td>\n",
              "      <td>1.0</td>\n",
              "      <td>0.0</td>\n",
              "      <td>0.0</td>\n",
              "      <td>1.0</td>\n",
              "      <td>0.0</td>\n",
              "    </tr>\n",
              "    <tr>\n",
              "      <th>3</th>\n",
              "      <td>3</td>\n",
              "      <td>33.0</td>\n",
              "      <td>22.705</td>\n",
              "      <td>0</td>\n",
              "      <td>21984.47061</td>\n",
              "      <td>1.0</td>\n",
              "      <td>0.0</td>\n",
              "      <td>0.0</td>\n",
              "      <td>1.0</td>\n",
              "      <td>0.0</td>\n",
              "      <td>1.0</td>\n",
              "      <td>0.0</td>\n",
              "      <td>0.0</td>\n",
              "    </tr>\n",
              "    <tr>\n",
              "      <th>4</th>\n",
              "      <td>4</td>\n",
              "      <td>32.0</td>\n",
              "      <td>28.880</td>\n",
              "      <td>0</td>\n",
              "      <td>3866.85520</td>\n",
              "      <td>1.0</td>\n",
              "      <td>0.0</td>\n",
              "      <td>0.0</td>\n",
              "      <td>1.0</td>\n",
              "      <td>0.0</td>\n",
              "      <td>1.0</td>\n",
              "      <td>0.0</td>\n",
              "      <td>0.0</td>\n",
              "    </tr>\n",
              "    <tr>\n",
              "      <th>...</th>\n",
              "      <td>...</td>\n",
              "      <td>...</td>\n",
              "      <td>...</td>\n",
              "      <td>...</td>\n",
              "      <td>...</td>\n",
              "      <td>...</td>\n",
              "      <td>...</td>\n",
              "      <td>...</td>\n",
              "      <td>...</td>\n",
              "      <td>...</td>\n",
              "      <td>...</td>\n",
              "      <td>...</td>\n",
              "      <td>...</td>\n",
              "    </tr>\n",
              "    <tr>\n",
              "      <th>1333</th>\n",
              "      <td>1333</td>\n",
              "      <td>50.0</td>\n",
              "      <td>30.970</td>\n",
              "      <td>3</td>\n",
              "      <td>10600.54830</td>\n",
              "      <td>1.0</td>\n",
              "      <td>0.0</td>\n",
              "      <td>0.0</td>\n",
              "      <td>1.0</td>\n",
              "      <td>0.0</td>\n",
              "      <td>1.0</td>\n",
              "      <td>0.0</td>\n",
              "      <td>0.0</td>\n",
              "    </tr>\n",
              "    <tr>\n",
              "      <th>1334</th>\n",
              "      <td>1334</td>\n",
              "      <td>18.0</td>\n",
              "      <td>31.920</td>\n",
              "      <td>0</td>\n",
              "      <td>2205.98080</td>\n",
              "      <td>1.0</td>\n",
              "      <td>0.0</td>\n",
              "      <td>1.0</td>\n",
              "      <td>0.0</td>\n",
              "      <td>1.0</td>\n",
              "      <td>0.0</td>\n",
              "      <td>0.0</td>\n",
              "      <td>0.0</td>\n",
              "    </tr>\n",
              "    <tr>\n",
              "      <th>1335</th>\n",
              "      <td>1335</td>\n",
              "      <td>18.0</td>\n",
              "      <td>36.850</td>\n",
              "      <td>0</td>\n",
              "      <td>1629.83350</td>\n",
              "      <td>1.0</td>\n",
              "      <td>0.0</td>\n",
              "      <td>1.0</td>\n",
              "      <td>0.0</td>\n",
              "      <td>0.0</td>\n",
              "      <td>0.0</td>\n",
              "      <td>1.0</td>\n",
              "      <td>0.0</td>\n",
              "    </tr>\n",
              "    <tr>\n",
              "      <th>1336</th>\n",
              "      <td>1336</td>\n",
              "      <td>21.0</td>\n",
              "      <td>25.800</td>\n",
              "      <td>0</td>\n",
              "      <td>2007.94500</td>\n",
              "      <td>1.0</td>\n",
              "      <td>0.0</td>\n",
              "      <td>1.0</td>\n",
              "      <td>0.0</td>\n",
              "      <td>0.0</td>\n",
              "      <td>0.0</td>\n",
              "      <td>0.0</td>\n",
              "      <td>1.0</td>\n",
              "    </tr>\n",
              "    <tr>\n",
              "      <th>1337</th>\n",
              "      <td>1337</td>\n",
              "      <td>61.0</td>\n",
              "      <td>30.400</td>\n",
              "      <td>0</td>\n",
              "      <td>29141.36030</td>\n",
              "      <td>0.0</td>\n",
              "      <td>1.0</td>\n",
              "      <td>1.0</td>\n",
              "      <td>0.0</td>\n",
              "      <td>0.0</td>\n",
              "      <td>1.0</td>\n",
              "      <td>0.0</td>\n",
              "      <td>0.0</td>\n",
              "    </tr>\n",
              "  </tbody>\n",
              "</table>\n",
              "<p>1338 rows × 13 columns</p>\n",
              "</div>\n",
              "      <button class=\"colab-df-convert\" onclick=\"convertToInteractive('df-3e30df02-1c93-460e-9a46-e003359ffa47')\"\n",
              "              title=\"Convert this dataframe to an interactive table.\"\n",
              "              style=\"display:none;\">\n",
              "        \n",
              "  <svg xmlns=\"http://www.w3.org/2000/svg\" height=\"24px\"viewBox=\"0 0 24 24\"\n",
              "       width=\"24px\">\n",
              "    <path d=\"M0 0h24v24H0V0z\" fill=\"none\"/>\n",
              "    <path d=\"M18.56 5.44l.94 2.06.94-2.06 2.06-.94-2.06-.94-.94-2.06-.94 2.06-2.06.94zm-11 1L8.5 8.5l.94-2.06 2.06-.94-2.06-.94L8.5 2.5l-.94 2.06-2.06.94zm10 10l.94 2.06.94-2.06 2.06-.94-2.06-.94-.94-2.06-.94 2.06-2.06.94z\"/><path d=\"M17.41 7.96l-1.37-1.37c-.4-.4-.92-.59-1.43-.59-.52 0-1.04.2-1.43.59L10.3 9.45l-7.72 7.72c-.78.78-.78 2.05 0 2.83L4 21.41c.39.39.9.59 1.41.59.51 0 1.02-.2 1.41-.59l7.78-7.78 2.81-2.81c.8-.78.8-2.07 0-2.86zM5.41 20L4 18.59l7.72-7.72 1.47 1.35L5.41 20z\"/>\n",
              "  </svg>\n",
              "      </button>\n",
              "      \n",
              "  <style>\n",
              "    .colab-df-container {\n",
              "      display:flex;\n",
              "      flex-wrap:wrap;\n",
              "      gap: 12px;\n",
              "    }\n",
              "\n",
              "    .colab-df-convert {\n",
              "      background-color: #E8F0FE;\n",
              "      border: none;\n",
              "      border-radius: 50%;\n",
              "      cursor: pointer;\n",
              "      display: none;\n",
              "      fill: #1967D2;\n",
              "      height: 32px;\n",
              "      padding: 0 0 0 0;\n",
              "      width: 32px;\n",
              "    }\n",
              "\n",
              "    .colab-df-convert:hover {\n",
              "      background-color: #E2EBFA;\n",
              "      box-shadow: 0px 1px 2px rgba(60, 64, 67, 0.3), 0px 1px 3px 1px rgba(60, 64, 67, 0.15);\n",
              "      fill: #174EA6;\n",
              "    }\n",
              "\n",
              "    [theme=dark] .colab-df-convert {\n",
              "      background-color: #3B4455;\n",
              "      fill: #D2E3FC;\n",
              "    }\n",
              "\n",
              "    [theme=dark] .colab-df-convert:hover {\n",
              "      background-color: #434B5C;\n",
              "      box-shadow: 0px 1px 3px 1px rgba(0, 0, 0, 0.15);\n",
              "      filter: drop-shadow(0px 1px 2px rgba(0, 0, 0, 0.3));\n",
              "      fill: #FFFFFF;\n",
              "    }\n",
              "  </style>\n",
              "\n",
              "      <script>\n",
              "        const buttonEl =\n",
              "          document.querySelector('#df-3e30df02-1c93-460e-9a46-e003359ffa47 button.colab-df-convert');\n",
              "        buttonEl.style.display =\n",
              "          google.colab.kernel.accessAllowed ? 'block' : 'none';\n",
              "\n",
              "        async function convertToInteractive(key) {\n",
              "          const element = document.querySelector('#df-3e30df02-1c93-460e-9a46-e003359ffa47');\n",
              "          const dataTable =\n",
              "            await google.colab.kernel.invokeFunction('convertToInteractive',\n",
              "                                                     [key], {});\n",
              "          if (!dataTable) return;\n",
              "\n",
              "          const docLinkHtml = 'Like what you see? Visit the ' +\n",
              "            '<a target=\"_blank\" href=https://colab.research.google.com/notebooks/data_table.ipynb>data table notebook</a>'\n",
              "            + ' to learn more about interactive tables.';\n",
              "          element.innerHTML = '';\n",
              "          dataTable['output_type'] = 'display_data';\n",
              "          await google.colab.output.renderOutput(dataTable, element);\n",
              "          const docLink = document.createElement('div');\n",
              "          docLink.innerHTML = docLinkHtml;\n",
              "          element.appendChild(docLink);\n",
              "        }\n",
              "      </script>\n",
              "    </div>\n",
              "  </div>\n",
              "  "
            ],
            "text/plain": [
              "      index   age     bmi  children      charges  Non smoker  Smoker  female  \\\n",
              "0         0  19.0  27.900         0  16884.92400         0.0     1.0     1.0   \n",
              "1         1  18.0  33.770         1   1725.55230         1.0     0.0     0.0   \n",
              "2         2  28.0  33.000         3   4449.46200         1.0     0.0     0.0   \n",
              "3         3  33.0  22.705         0  21984.47061         1.0     0.0     0.0   \n",
              "4         4  32.0  28.880         0   3866.85520         1.0     0.0     0.0   \n",
              "...     ...   ...     ...       ...          ...         ...     ...     ...   \n",
              "1333   1333  50.0  30.970         3  10600.54830         1.0     0.0     0.0   \n",
              "1334   1334  18.0  31.920         0   2205.98080         1.0     0.0     1.0   \n",
              "1335   1335  18.0  36.850         0   1629.83350         1.0     0.0     1.0   \n",
              "1336   1336  21.0  25.800         0   2007.94500         1.0     0.0     1.0   \n",
              "1337   1337  61.0  30.400         0  29141.36030         0.0     1.0     1.0   \n",
              "\n",
              "      male  northeast  northwest  southeast  southwest  \n",
              "0      0.0        0.0        0.0        0.0        1.0  \n",
              "1      1.0        0.0        0.0        1.0        0.0  \n",
              "2      1.0        0.0        0.0        1.0        0.0  \n",
              "3      1.0        0.0        1.0        0.0        0.0  \n",
              "4      1.0        0.0        1.0        0.0        0.0  \n",
              "...    ...        ...        ...        ...        ...  \n",
              "1333   1.0        0.0        1.0        0.0        0.0  \n",
              "1334   0.0        1.0        0.0        0.0        0.0  \n",
              "1335   0.0        0.0        0.0        1.0        0.0  \n",
              "1336   0.0        0.0        0.0        0.0        1.0  \n",
              "1337   0.0        0.0        1.0        0.0        0.0  \n",
              "\n",
              "[1338 rows x 13 columns]"
            ]
          },
          "execution_count": 64,
          "metadata": {},
          "output_type": "execute_result"
        }
      ],
      "source": [
        "#backup = seguro.copy();\n",
        "\n",
        "#seguro.reset_index(drop=False, inplace=True);\n",
        "\n",
        "#juntar columnas\n",
        "#seguro = seguro.join(pd.DataFrame(region_cat_1hot, columns=[cat for cat in cat_encoder.categories_[0]]))\n",
        "#seguro=seguro.drop([\"region\"], axis=1);\n",
        "#seguro = seguro.drop([\"level_0\"],axis=1);\n",
        "#seguro.info()\n",
        "backup = seguro.copy();\n",
        "seguro"
      ]
    },
    {
      "cell_type": "code",
      "execution_count": 65,
      "id": "BCGVZkvpgXrj",
      "metadata": {
        "colab": {
          "base_uri": "https://localhost:8080/"
        },
        "id": "BCGVZkvpgXrj",
        "outputId": "1e3994c0-84d7-4e0d-c722-af4f8df5b5fa"
      },
      "outputs": [
        {
          "name": "stdout",
          "output_type": "stream",
          "text": [
            "<class 'pandas.core.frame.DataFrame'>\n",
            "RangeIndex: 1338 entries, 0 to 1337\n",
            "Data columns (total 13 columns):\n",
            " #   Column      Non-Null Count  Dtype  \n",
            "---  ------      --------------  -----  \n",
            " 0   index       1338 non-null   int64  \n",
            " 1   age         1338 non-null   float64\n",
            " 2   bmi         1338 non-null   float64\n",
            " 3   children    1338 non-null   int64  \n",
            " 4   charges     1338 non-null   float64\n",
            " 5   Non smoker  1338 non-null   float64\n",
            " 6   Smoker      1338 non-null   float64\n",
            " 7   female      1338 non-null   float64\n",
            " 8   male        1338 non-null   float64\n",
            " 9   northeast   1338 non-null   float64\n",
            " 10  northwest   1338 non-null   float64\n",
            " 11  southeast   1338 non-null   float64\n",
            " 12  southwest   1338 non-null   float64\n",
            "dtypes: float64(11), int64(2)\n",
            "memory usage: 136.0 KB\n"
          ]
        }
      ],
      "source": [
        "seguro.info()"
      ]
    },
    {
      "cell_type": "markdown",
      "id": "1-4eK1wYtuaS",
      "metadata": {
        "id": "1-4eK1wYtuaS"
      },
      "source": [
        "#### Ahora los datos sí están listos para el entrenamiento y el test. "
      ]
    },
    {
      "cell_type": "markdown",
      "id": "hiJ067z4ttmQ",
      "metadata": {
        "id": "hiJ067z4ttmQ"
      },
      "source": [
        "# Seleccionando y entrenando los modelos"
      ]
    },
    {
      "cell_type": "markdown",
      "id": "59zPdP7hu1Ig",
      "metadata": {
        "id": "59zPdP7hu1Ig"
      },
      "source": [
        "## Creamos el Train y Test Set"
      ]
    },
    {
      "cell_type": "markdown",
      "id": "i_wAwPznu3zN",
      "metadata": {
        "id": "i_wAwPznu3zN"
      },
      "source": [
        "Con la función *seed* plantamos una \"semilla\" para hacer que el proceso siguiente sea repetible. Una semilla es un número aleatorio utilizado para inicializar un generador de números pseudoaleatorios. Esta función se encuentra en la librería random de numpy (np)."
      ]
    },
    {
      "cell_type": "code",
      "execution_count": 66,
      "id": "YTU7ZDjgtv1n",
      "metadata": {
        "id": "YTU7ZDjgtv1n"
      },
      "outputs": [],
      "source": [
        "np.random.seed(42);"
      ]
    },
    {
      "cell_type": "code",
      "execution_count": 67,
      "id": "eCrZLIi_vYlc",
      "metadata": {
        "id": "eCrZLIi_vYlc"
      },
      "outputs": [],
      "source": [
        "def split_train_test(data, test_ratio):\n",
        "    # se calcula el tamaño del conjunto de testeo multiplicando el total por el ratio\n",
        "    test_set_size = int(len(seguro)*test_ratio);\n",
        "    # permutation baraja los indices del dataframe y devuelve una lista de los elementos permutados\n",
        "    shuffle_indices = np.random.permutation(len(data));\n",
        "    test_indices = shuffle_indices[:test_set_size];\n",
        "    train_indices = shuffle_indices[test_set_size:];\n",
        "    # de data devuelve las filas que corresponden con los indices train_indices\n",
        "    return data.iloc[train_indices], data.iloc[test_indices];\n"
      ]
    },
    {
      "cell_type": "code",
      "execution_count": 68,
      "id": "y1LBh8QMv_N6",
      "metadata": {
        "colab": {
          "base_uri": "https://localhost:8080/"
        },
        "id": "y1LBh8QMv_N6",
        "outputId": "bb5227a7-c0c5-4358-ec16-f1f98658a6f4"
      },
      "outputs": [
        {
          "data": {
            "text/plain": [
              "(1071, 267)"
            ]
          },
          "execution_count": 68,
          "metadata": {},
          "output_type": "execute_result"
        }
      ],
      "source": [
        "X_train, X_test = split_train_test(seguro, 0.20);\n",
        "\n",
        "len(X_train),len(X_test)"
      ]
    },
    {
      "cell_type": "markdown",
      "id": "NVLEYq6ywOYw",
      "metadata": {
        "id": "NVLEYq6ywOYw"
      },
      "source": [
        "Hacemos una copia de la columna *charges* para no perder los datos a predecir, que va a ser la 'y' de entrenamiento, y la eliminamos del X_train."
      ]
    },
    {
      "cell_type": "code",
      "execution_count": 69,
      "id": "8wrm6A3jxQiw",
      "metadata": {
        "id": "8wrm6A3jxQiw"
      },
      "outputs": [],
      "source": [
        "y_train = X_train[\"charges\"].copy();\n",
        "X_train = X_train.drop(\"charges\", axis=1);"
      ]
    },
    {
      "cell_type": "markdown",
      "id": "StaQIwdExppt",
      "metadata": {
        "id": "StaQIwdExppt"
      },
      "source": [
        "Dataframe sin columna *charges* y los índices permutados:"
      ]
    },
    {
      "cell_type": "code",
      "execution_count": 70,
      "id": "JrCDMz2HxoHb",
      "metadata": {
        "colab": {
          "base_uri": "https://localhost:8080/",
          "height": 206
        },
        "id": "JrCDMz2HxoHb",
        "outputId": "8e602412-a6a2-42b3-c148-e9d29fd7f84b"
      },
      "outputs": [
        {
          "data": {
            "text/html": [
              "\n",
              "  <div id=\"df-6ea7a0e8-9a57-47a0-b5fc-e2c6b3b9c742\">\n",
              "    <div class=\"colab-df-container\">\n",
              "      <div>\n",
              "<style scoped>\n",
              "    .dataframe tbody tr th:only-of-type {\n",
              "        vertical-align: middle;\n",
              "    }\n",
              "\n",
              "    .dataframe tbody tr th {\n",
              "        vertical-align: top;\n",
              "    }\n",
              "\n",
              "    .dataframe thead th {\n",
              "        text-align: right;\n",
              "    }\n",
              "</style>\n",
              "<table border=\"1\" class=\"dataframe\">\n",
              "  <thead>\n",
              "    <tr style=\"text-align: right;\">\n",
              "      <th></th>\n",
              "      <th>index</th>\n",
              "      <th>age</th>\n",
              "      <th>bmi</th>\n",
              "      <th>children</th>\n",
              "      <th>Non smoker</th>\n",
              "      <th>Smoker</th>\n",
              "      <th>female</th>\n",
              "      <th>male</th>\n",
              "      <th>northeast</th>\n",
              "      <th>northwest</th>\n",
              "      <th>southeast</th>\n",
              "      <th>southwest</th>\n",
              "    </tr>\n",
              "  </thead>\n",
              "  <tbody>\n",
              "    <tr>\n",
              "      <th>846</th>\n",
              "      <td>846</td>\n",
              "      <td>51.0</td>\n",
              "      <td>34.20</td>\n",
              "      <td>1</td>\n",
              "      <td>1.0</td>\n",
              "      <td>0.0</td>\n",
              "      <td>1.0</td>\n",
              "      <td>0.0</td>\n",
              "      <td>0.0</td>\n",
              "      <td>0.0</td>\n",
              "      <td>0.0</td>\n",
              "      <td>1.0</td>\n",
              "    </tr>\n",
              "    <tr>\n",
              "      <th>560</th>\n",
              "      <td>560</td>\n",
              "      <td>46.0</td>\n",
              "      <td>19.95</td>\n",
              "      <td>2</td>\n",
              "      <td>1.0</td>\n",
              "      <td>0.0</td>\n",
              "      <td>1.0</td>\n",
              "      <td>0.0</td>\n",
              "      <td>0.0</td>\n",
              "      <td>1.0</td>\n",
              "      <td>0.0</td>\n",
              "      <td>0.0</td>\n",
              "    </tr>\n",
              "    <tr>\n",
              "      <th>1285</th>\n",
              "      <td>1285</td>\n",
              "      <td>47.0</td>\n",
              "      <td>24.32</td>\n",
              "      <td>0</td>\n",
              "      <td>1.0</td>\n",
              "      <td>0.0</td>\n",
              "      <td>1.0</td>\n",
              "      <td>0.0</td>\n",
              "      <td>1.0</td>\n",
              "      <td>0.0</td>\n",
              "      <td>0.0</td>\n",
              "      <td>0.0</td>\n",
              "    </tr>\n",
              "    <tr>\n",
              "      <th>1142</th>\n",
              "      <td>1142</td>\n",
              "      <td>52.0</td>\n",
              "      <td>24.86</td>\n",
              "      <td>0</td>\n",
              "      <td>1.0</td>\n",
              "      <td>0.0</td>\n",
              "      <td>1.0</td>\n",
              "      <td>0.0</td>\n",
              "      <td>0.0</td>\n",
              "      <td>0.0</td>\n",
              "      <td>1.0</td>\n",
              "      <td>0.0</td>\n",
              "    </tr>\n",
              "    <tr>\n",
              "      <th>969</th>\n",
              "      <td>969</td>\n",
              "      <td>39.0</td>\n",
              "      <td>34.32</td>\n",
              "      <td>5</td>\n",
              "      <td>1.0</td>\n",
              "      <td>0.0</td>\n",
              "      <td>1.0</td>\n",
              "      <td>0.0</td>\n",
              "      <td>0.0</td>\n",
              "      <td>0.0</td>\n",
              "      <td>1.0</td>\n",
              "      <td>0.0</td>\n",
              "    </tr>\n",
              "  </tbody>\n",
              "</table>\n",
              "</div>\n",
              "      <button class=\"colab-df-convert\" onclick=\"convertToInteractive('df-6ea7a0e8-9a57-47a0-b5fc-e2c6b3b9c742')\"\n",
              "              title=\"Convert this dataframe to an interactive table.\"\n",
              "              style=\"display:none;\">\n",
              "        \n",
              "  <svg xmlns=\"http://www.w3.org/2000/svg\" height=\"24px\"viewBox=\"0 0 24 24\"\n",
              "       width=\"24px\">\n",
              "    <path d=\"M0 0h24v24H0V0z\" fill=\"none\"/>\n",
              "    <path d=\"M18.56 5.44l.94 2.06.94-2.06 2.06-.94-2.06-.94-.94-2.06-.94 2.06-2.06.94zm-11 1L8.5 8.5l.94-2.06 2.06-.94-2.06-.94L8.5 2.5l-.94 2.06-2.06.94zm10 10l.94 2.06.94-2.06 2.06-.94-2.06-.94-.94-2.06-.94 2.06-2.06.94z\"/><path d=\"M17.41 7.96l-1.37-1.37c-.4-.4-.92-.59-1.43-.59-.52 0-1.04.2-1.43.59L10.3 9.45l-7.72 7.72c-.78.78-.78 2.05 0 2.83L4 21.41c.39.39.9.59 1.41.59.51 0 1.02-.2 1.41-.59l7.78-7.78 2.81-2.81c.8-.78.8-2.07 0-2.86zM5.41 20L4 18.59l7.72-7.72 1.47 1.35L5.41 20z\"/>\n",
              "  </svg>\n",
              "      </button>\n",
              "      \n",
              "  <style>\n",
              "    .colab-df-container {\n",
              "      display:flex;\n",
              "      flex-wrap:wrap;\n",
              "      gap: 12px;\n",
              "    }\n",
              "\n",
              "    .colab-df-convert {\n",
              "      background-color: #E8F0FE;\n",
              "      border: none;\n",
              "      border-radius: 50%;\n",
              "      cursor: pointer;\n",
              "      display: none;\n",
              "      fill: #1967D2;\n",
              "      height: 32px;\n",
              "      padding: 0 0 0 0;\n",
              "      width: 32px;\n",
              "    }\n",
              "\n",
              "    .colab-df-convert:hover {\n",
              "      background-color: #E2EBFA;\n",
              "      box-shadow: 0px 1px 2px rgba(60, 64, 67, 0.3), 0px 1px 3px 1px rgba(60, 64, 67, 0.15);\n",
              "      fill: #174EA6;\n",
              "    }\n",
              "\n",
              "    [theme=dark] .colab-df-convert {\n",
              "      background-color: #3B4455;\n",
              "      fill: #D2E3FC;\n",
              "    }\n",
              "\n",
              "    [theme=dark] .colab-df-convert:hover {\n",
              "      background-color: #434B5C;\n",
              "      box-shadow: 0px 1px 3px 1px rgba(0, 0, 0, 0.15);\n",
              "      filter: drop-shadow(0px 1px 2px rgba(0, 0, 0, 0.3));\n",
              "      fill: #FFFFFF;\n",
              "    }\n",
              "  </style>\n",
              "\n",
              "      <script>\n",
              "        const buttonEl =\n",
              "          document.querySelector('#df-6ea7a0e8-9a57-47a0-b5fc-e2c6b3b9c742 button.colab-df-convert');\n",
              "        buttonEl.style.display =\n",
              "          google.colab.kernel.accessAllowed ? 'block' : 'none';\n",
              "\n",
              "        async function convertToInteractive(key) {\n",
              "          const element = document.querySelector('#df-6ea7a0e8-9a57-47a0-b5fc-e2c6b3b9c742');\n",
              "          const dataTable =\n",
              "            await google.colab.kernel.invokeFunction('convertToInteractive',\n",
              "                                                     [key], {});\n",
              "          if (!dataTable) return;\n",
              "\n",
              "          const docLinkHtml = 'Like what you see? Visit the ' +\n",
              "            '<a target=\"_blank\" href=https://colab.research.google.com/notebooks/data_table.ipynb>data table notebook</a>'\n",
              "            + ' to learn more about interactive tables.';\n",
              "          element.innerHTML = '';\n",
              "          dataTable['output_type'] = 'display_data';\n",
              "          await google.colab.output.renderOutput(dataTable, element);\n",
              "          const docLink = document.createElement('div');\n",
              "          docLink.innerHTML = docLinkHtml;\n",
              "          element.appendChild(docLink);\n",
              "        }\n",
              "      </script>\n",
              "    </div>\n",
              "  </div>\n",
              "  "
            ],
            "text/plain": [
              "      index   age    bmi  children  Non smoker  Smoker  female  male  \\\n",
              "846     846  51.0  34.20         1         1.0     0.0     1.0   0.0   \n",
              "560     560  46.0  19.95         2         1.0     0.0     1.0   0.0   \n",
              "1285   1285  47.0  24.32         0         1.0     0.0     1.0   0.0   \n",
              "1142   1142  52.0  24.86         0         1.0     0.0     1.0   0.0   \n",
              "969     969  39.0  34.32         5         1.0     0.0     1.0   0.0   \n",
              "\n",
              "      northeast  northwest  southeast  southwest  \n",
              "846         0.0        0.0        0.0        1.0  \n",
              "560         0.0        1.0        0.0        0.0  \n",
              "1285        1.0        0.0        0.0        0.0  \n",
              "1142        0.0        0.0        1.0        0.0  \n",
              "969         0.0        0.0        1.0        0.0  "
            ]
          },
          "execution_count": 70,
          "metadata": {},
          "output_type": "execute_result"
        }
      ],
      "source": [
        "X_train.head()"
      ]
    },
    {
      "cell_type": "markdown",
      "id": "z_2n5UGvzhdt",
      "metadata": {
        "id": "z_2n5UGvzhdt"
      },
      "source": [
        "#### Modelo LinearRegression\n",
        "\n",
        "*lin_reg* es el modelo que se va a entrenar."
      ]
    },
    {
      "cell_type": "code",
      "execution_count": 71,
      "id": "Vu2AeXkIzlpE",
      "metadata": {
        "colab": {
          "base_uri": "https://localhost:8080/"
        },
        "id": "Vu2AeXkIzlpE",
        "outputId": "941157c4-c4db-488a-cf1f-8edf0fa8290d"
      },
      "outputs": [
        {
          "data": {
            "text/plain": [
              "LinearRegression()"
            ]
          },
          "execution_count": 71,
          "metadata": {},
          "output_type": "execute_result"
        }
      ],
      "source": [
        "from sklearn.linear_model import LinearRegression;\n",
        "\n",
        "\n",
        "lin_reg = LinearRegression();\n",
        "# el modelo aprende con el método fit\n",
        "lin_reg.fit(X_train, y_train)"
      ]
    },
    {
      "cell_type": "markdown",
      "id": "8vPoNz-r0nAc",
      "metadata": {
        "id": "8vPoNz-r0nAc"
      },
      "source": [
        "#### Generamos las prediciones y las comparamos con 5 valores reales:\n"
      ]
    },
    {
      "cell_type": "code",
      "execution_count": 72,
      "id": "LybggA6s0qor",
      "metadata": {
        "colab": {
          "base_uri": "https://localhost:8080/"
        },
        "id": "LybggA6s0qor",
        "outputId": "2eca00e3-ae9e-4cfe-f8dd-1895bc4cd8bb"
      },
      "outputs": [
        {
          "name": "stdout",
          "output_type": "stream",
          "text": [
            "Predictions: [12401.17356277  7023.49562733  8661.62691081  9403.53796207\n",
            " 11261.57347456]\n"
          ]
        }
      ],
      "source": [
        "some_data = X_train.iloc[:5]\n",
        "pred=lin_reg.predict(some_data)\n",
        "print(\"Predictions:\", pred)"
      ]
    },
    {
      "cell_type": "markdown",
      "id": "aZu8oNHe0z2d",
      "metadata": {
        "id": "aZu8oNHe0z2d"
      },
      "source": [
        "Error cuadrático medio:\n",
        "$$ MSE = \\frac{1}{n}∑_{i=1}^{n}{(y_i-y_i')}^2 $$"
      ]
    },
    {
      "cell_type": "code",
      "execution_count": 73,
      "id": "ZmalFpqP094j",
      "metadata": {
        "colab": {
          "base_uri": "https://localhost:8080/"
        },
        "id": "ZmalFpqP094j",
        "outputId": "e6d143f3-8b4d-47d0-c0e9-50ba9113fbf2"
      },
      "outputs": [
        {
          "data": {
            "text/plain": [
              "6101.267410121104"
            ]
          },
          "execution_count": 73,
          "metadata": {},
          "output_type": "execute_result"
        }
      ],
      "source": [
        "from sklearn.metrics import mean_squared_error;\n",
        "\n",
        "predictions = lin_reg.predict(X_train);\n",
        "lin_mse = mean_squared_error(y_train, predictions);\n",
        "lin_rmse = np.sqrt(lin_mse)\n",
        "lin_rmse"
      ]
    },
    {
      "cell_type": "markdown",
      "id": "CicIbLjr12bz",
      "metadata": {
        "id": "CicIbLjr12bz"
      },
      "source": [
        "Error absoluto medio:\n",
        "$$ MAE = \\frac{1}{n}∑_{i=1}^{n}{|y_i-y_i'|} $$"
      ]
    },
    {
      "cell_type": "code",
      "execution_count": 74,
      "id": "gFD470rY16Nh",
      "metadata": {
        "colab": {
          "base_uri": "https://localhost:8080/"
        },
        "id": "gFD470rY16Nh",
        "outputId": "03d0df20-1e8e-4d24-d9a8-3a287920018f"
      },
      "outputs": [
        {
          "data": {
            "text/plain": [
              "4200.543851013067"
            ]
          },
          "execution_count": 74,
          "metadata": {},
          "output_type": "execute_result"
        }
      ],
      "source": [
        "from sklearn.metrics import mean_absolute_error;\n",
        "# predictions\n",
        "\n",
        "lin_mae = mean_absolute_error(y_train, predictions);\n",
        "lin_mae"
      ]
    },
    {
      "cell_type": "markdown",
      "id": "1ajtMzCp18Tr",
      "metadata": {
        "id": "1ajtMzCp18Tr"
      },
      "source": [
        "El error absoluto medio (*MAE*) es menor que el error cuadrático medio (*MSE*), por lo cual es un mejor estimador."
      ]
    },
    {
      "cell_type": "markdown",
      "id": "wnC8UhxV2CHX",
      "metadata": {
        "id": "wnC8UhxV2CHX"
      },
      "source": [
        "#### Modelo Decision Tree Regressor: calcula la regresión utilizando arboles de decisión."
      ]
    },
    {
      "cell_type": "code",
      "execution_count": 75,
      "id": "QnnZuGrd2EeB",
      "metadata": {
        "colab": {
          "base_uri": "https://localhost:8080/"
        },
        "id": "QnnZuGrd2EeB",
        "outputId": "431d18fc-9214-4b69-e672-c921638d9b05"
      },
      "outputs": [
        {
          "data": {
            "text/plain": [
              "DecisionTreeRegressor()"
            ]
          },
          "execution_count": 75,
          "metadata": {},
          "output_type": "execute_result"
        }
      ],
      "source": [
        "from sklearn.tree import DecisionTreeRegressor;\n",
        "\n",
        "tree_reg = DecisionTreeRegressor();\n",
        "# el modelo aprende con el método fit\n",
        "tree_reg.fit(X_train, y_train)"
      ]
    },
    {
      "cell_type": "markdown",
      "id": "5Sx9wYY42H0Z",
      "metadata": {
        "id": "5Sx9wYY42H0Z"
      },
      "source": [
        "El modelo predice sobre todas las X. El resultado es 0.0, lo que significa que este modelo ha sobreaprendido."
      ]
    },
    {
      "cell_type": "code",
      "execution_count": 76,
      "id": "RYYyN7aj2O_6",
      "metadata": {
        "colab": {
          "base_uri": "https://localhost:8080/"
        },
        "id": "RYYyN7aj2O_6",
        "outputId": "34c5a848-41b6-44b2-b530-7df0fee8bdc8"
      },
      "outputs": [
        {
          "data": {
            "text/plain": [
              "0.0"
            ]
          },
          "execution_count": 76,
          "metadata": {},
          "output_type": "execute_result"
        }
      ],
      "source": [
        "predictions = tree_reg.predict(X_train);\n",
        "tree_mse = mean_squared_error(y_train, predictions);\n",
        "tree_rmse = np.sqrt(tree_mse);\n",
        "tree_rmse\n",
        "\n"
      ]
    },
    {
      "cell_type": "markdown",
      "id": "y1jl78Wm2ULr",
      "metadata": {
        "id": "y1jl78Wm2ULr"
      },
      "source": [
        "## Mejorando la evaluación por medio de la validación cruzada"
      ]
    },
    {
      "cell_type": "code",
      "execution_count": 77,
      "id": "AtR0douR2SXU",
      "metadata": {
        "colab": {
          "base_uri": "https://localhost:8080/"
        },
        "id": "AtR0douR2SXU",
        "outputId": "476bc6cf-8cf4-4509-b984-1497aff2112e"
      },
      "outputs": [
        {
          "data": {
            "text/plain": [
              "array([6081.48899604, 6435.57278636, 5913.21472932, 6418.00141364,\n",
              "       6285.27250281, 5312.52894522, 7997.20570253, 6647.28386202,\n",
              "       7363.81776465, 7148.50872346])"
            ]
          },
          "execution_count": 77,
          "metadata": {},
          "output_type": "execute_result"
        }
      ],
      "source": [
        "# entrena con unos datos pero los valida con otros que no ve\n",
        "from sklearn.model_selection import cross_val_score;\n",
        "\n",
        "# le pasamos el modelo de árbol de decisión que hemos entrenado, las X, las Y, y el tipo de validación(scoring) que vamos a utilizar\n",
        "scores = cross_val_score(tree_reg, X_train, y_train, scoring=\"neg_mean_squared_error\", cv=10)\n",
        "tree_rmse_scores=np.sqrt(-scores)\n",
        "tree_rmse_scores"
      ]
    },
    {
      "cell_type": "code",
      "execution_count": 78,
      "id": "7o88HjvX2d0n",
      "metadata": {
        "colab": {
          "base_uri": "https://localhost:8080/"
        },
        "id": "7o88HjvX2d0n",
        "outputId": "d78f035a-209b-48a4-a3d3-61b09bcc2b2b"
      },
      "outputs": [
        {
          "name": "stdout",
          "output_type": "stream",
          "text": [
            "Scores: [6081.48899604 6435.57278636 5913.21472932 6418.00141364 6285.27250281\n",
            " 5312.52894522 7997.20570253 6647.28386202 7363.81776465 7148.50872346]\n",
            "Mean: 6560.289542604636\n",
            "Standard deviation: 733.5020320008693\n"
          ]
        }
      ],
      "source": [
        "def display_scores(scores):\n",
        "    print(f\"Scores: {scores}\");\n",
        "    print(f\"Mean: {scores.mean()}\");\n",
        "    print(f\"Standard deviation: {scores.std()}\");\n",
        "    \n",
        "display_scores(tree_rmse_scores);"
      ]
    },
    {
      "cell_type": "markdown",
      "id": "Nchqw3I02jM5",
      "metadata": {
        "id": "Nchqw3I02jM5"
      },
      "source": [
        "Le pasamos el modelo de regresión lineal que hemos entrenado, las X, las y, y el tipo de validación(scoring) que vamos a utilizar:"
      ]
    },
    {
      "cell_type": "code",
      "execution_count": 79,
      "id": "NSjb1Zka2oAS",
      "metadata": {
        "colab": {
          "base_uri": "https://localhost:8080/"
        },
        "id": "NSjb1Zka2oAS",
        "outputId": "40203a20-3faa-4c31-c15c-227006f39914"
      },
      "outputs": [
        {
          "data": {
            "text/plain": [
              "array([6049.73006499, 6626.75159227, 5226.939215  , 6076.36546583,\n",
              "       5822.3622088 , 6111.3919269 , 7279.27818832, 6307.74209444,\n",
              "       6248.12761218, 5645.5846269 ])"
            ]
          },
          "execution_count": 79,
          "metadata": {},
          "output_type": "execute_result"
        }
      ],
      "source": [
        "scores = cross_val_score(lin_reg, X_train, y_train, scoring=\"neg_mean_squared_error\", cv=10)\n",
        "lin_rmse_scores=np.sqrt(-scores)\n",
        "lin_rmse_scores"
      ]
    },
    {
      "cell_type": "markdown",
      "id": "SAeR_OG-jOdT",
      "metadata": {
        "id": "SAeR_OG-jOdT"
      },
      "source": [
        "Calculamos la media de la validación cruzada del modelo Linear Regressor para comparar con Decision Tree Regressor:"
      ]
    },
    {
      "cell_type": "code",
      "execution_count": 80,
      "id": "Bqf77RNdik0C",
      "metadata": {
        "colab": {
          "base_uri": "https://localhost:8080/"
        },
        "id": "Bqf77RNdik0C",
        "outputId": "7a259945-591a-4ed5-c8a6-d77cac6ba84a"
      },
      "outputs": [
        {
          "name": "stdout",
          "output_type": "stream",
          "text": [
            "Scores: [6049.73006499 6626.75159227 5226.939215   6076.36546583 5822.3622088\n",
            " 6111.3919269  7279.27818832 6307.74209444 6248.12761218 5645.5846269 ]\n",
            "Mean: 6139.427299561496\n",
            "Standard deviation: 525.9985147774804\n"
          ]
        }
      ],
      "source": [
        "display_scores(lin_rmse_scores)"
      ]
    },
    {
      "cell_type": "markdown",
      "id": "6d278f11",
      "metadata": {
        "id": "6d278f11"
      },
      "source": [
        "Los resultados obtenidos utilizando el modelo de árboles de decisión son peores(media = 6560.2395) que los del modelo Linear Regressor(media= 6139.4272)."
      ]
    },
    {
      "cell_type": "markdown",
      "id": "mkYPvIDY2uVC",
      "metadata": {
        "id": "mkYPvIDY2uVC"
      },
      "source": [
        "#### Modelo RandomForest Regressor: \n",
        "\n",
        "Este modelo funciona como un ensamblado de varios árboles de decisión."
      ]
    },
    {
      "cell_type": "code",
      "execution_count": 81,
      "id": "C-Rpt1PH2wjG",
      "metadata": {
        "colab": {
          "base_uri": "https://localhost:8080/"
        },
        "id": "C-Rpt1PH2wjG",
        "outputId": "f7d11cab-420e-495d-890c-7d06a6ce4b5b"
      },
      "outputs": [
        {
          "data": {
            "text/plain": [
              "RandomForestRegressor(random_state=42)"
            ]
          },
          "execution_count": 81,
          "metadata": {},
          "output_type": "execute_result"
        }
      ],
      "source": [
        "from sklearn.ensemble import RandomForestRegressor;\n",
        "\n",
        "forest_reg = RandomForestRegressor(n_estimators=100, random_state=42);\n",
        "forest_reg.fit(X_train, y_train)"
      ]
    },
    {
      "cell_type": "code",
      "execution_count": 82,
      "id": "2o3c3DEajS91",
      "metadata": {
        "colab": {
          "base_uri": "https://localhost:8080/"
        },
        "id": "2o3c3DEajS91",
        "outputId": "cc39f5a2-3a63-4ae4-e20e-090819bfae6a"
      },
      "outputs": [
        {
          "data": {
            "text/plain": [
              "1808.6653350138758"
            ]
          },
          "execution_count": 82,
          "metadata": {},
          "output_type": "execute_result"
        }
      ],
      "source": [
        "predictions = forest_reg.predict(X_train);\n",
        "forest_mse = mean_squared_error(y_train, predictions);\n",
        "forest_rmse = np.sqrt(forest_mse);\n",
        "forest_rmse"
      ]
    },
    {
      "cell_type": "markdown",
      "id": "oqhd3q3NjdjZ",
      "metadata": {
        "id": "oqhd3q3NjdjZ"
      },
      "source": [
        "Evaluando con validación cruzada:"
      ]
    },
    {
      "cell_type": "code",
      "execution_count": 83,
      "id": "MiNqoseejaym",
      "metadata": {
        "colab": {
          "base_uri": "https://localhost:8080/"
        },
        "id": "MiNqoseejaym",
        "outputId": "24230a01-9452-430b-b61a-5be913a1e628"
      },
      "outputs": [
        {
          "name": "stdout",
          "output_type": "stream",
          "text": [
            "Scores: [4655.44921749 4969.74068614 3766.21760343 4347.08484659 4906.72186163\n",
            " 4708.84808982 6128.94274533 5379.31807087 5065.98839945 4672.15469735]\n",
            "Mean: 4860.04662181192\n",
            "Standard deviation: 591.2681088246306\n"
          ]
        }
      ],
      "source": [
        "forest_scores = cross_val_score(forest_reg, X_train, y_train, scoring=\"neg_mean_squared_error\", cv=10)\n",
        "forest_rmse_scores=np.sqrt(-forest_scores);\n",
        "display_scores(forest_rmse_scores)"
      ]
    },
    {
      "cell_type": "markdown",
      "id": "ff60ca87",
      "metadata": {
        "id": "ff60ca87"
      },
      "source": [
        "El resultado de la media del modelo RandomForest, menor que en los modelos anteriores, es de aprox. 4860.05 de prima. Es un buen estimador."
      ]
    },
    {
      "cell_type": "markdown",
      "id": "GVe4K5XRjkRQ",
      "metadata": {
        "id": "GVe4K5XRjkRQ"
      },
      "source": [
        "#### Modelo SVR (Support Vector Regressor)"
      ]
    },
    {
      "cell_type": "code",
      "execution_count": 84,
      "id": "RdNJSl0JjlJN",
      "metadata": {
        "colab": {
          "base_uri": "https://localhost:8080/"
        },
        "id": "RdNJSl0JjlJN",
        "outputId": "5cf76109-fedb-4e5e-f5db-904b0fb27bde"
      },
      "outputs": [
        {
          "data": {
            "text/plain": [
              "12791.545354691656"
            ]
          },
          "execution_count": 84,
          "metadata": {},
          "output_type": "execute_result"
        }
      ],
      "source": [
        "from sklearn.svm import SVR;\n",
        "\n",
        "svm_reg = SVR(kernel=\"linear\");\n",
        "svm_reg.fit(X_train, y_train);\n",
        "predictions = svm_reg.predict(X_train);\n",
        "svm_mse = mean_squared_error(y_train, predictions);\n",
        "svm_rmse = np.sqrt(svm_mse);\n",
        "svm_rmse"
      ]
    },
    {
      "cell_type": "markdown",
      "id": "dFYwrkPvjoVe",
      "metadata": {
        "id": "dFYwrkPvjoVe"
      },
      "source": [
        "Aplicando validación cruzada:"
      ]
    },
    {
      "cell_type": "code",
      "execution_count": 85,
      "id": "cN5unKD0jp-8",
      "metadata": {
        "colab": {
          "base_uri": "https://localhost:8080/"
        },
        "id": "cN5unKD0jp-8",
        "outputId": "7e488903-3036-4596-cf41-2b5c547d8bc2"
      },
      "outputs": [
        {
          "name": "stdout",
          "output_type": "stream",
          "text": [
            "Scores: [13062.48933592 12587.72868644 12566.61555303 15087.05705215\n",
            " 12908.04871446 10550.79712576 13105.51307957 12527.45714468\n",
            " 12899.04073312 12339.23141473]\n",
            "Mean: 12763.397883986445\n",
            "Standard deviation: 1041.440520283765\n"
          ]
        }
      ],
      "source": [
        "svm_scores = cross_val_score(svm_reg, X_train, y_train, scoring=\"neg_mean_squared_error\", cv=10)\n",
        "svm_rmse_scores=np.sqrt(-svm_scores);\n",
        "display_scores(svm_rmse_scores)"
      ]
    },
    {
      "cell_type": "markdown",
      "id": "42a2c9c0",
      "metadata": {
        "id": "42a2c9c0"
      },
      "source": [
        "Los resultados obtenidos no son mejores que en los anteriores modelos. Continuamos probando el modelo XGBoost."
      ]
    },
    {
      "cell_type": "markdown",
      "id": "XFW89QAhjty4",
      "metadata": {
        "id": "XFW89QAhjty4"
      },
      "source": [
        "#### Modelo XGBoost"
      ]
    },
    {
      "cell_type": "markdown",
      "id": "13effd96",
      "metadata": {
        "id": "13effd96"
      },
      "source": [
        "El modelo XGBoost suele obtener buenos resultados de predicción con relativamente poco esfuerzo, en muchos casos equiparables o mejores que los devueltos por modelos más complejos computacionalmente, en particular para problemas con datos heterogéneos, como es el caso."
      ]
    },
    {
      "cell_type": "code",
      "execution_count": 86,
      "id": "FkrhJ0M6jvKg",
      "metadata": {
        "colab": {
          "base_uri": "https://localhost:8080/"
        },
        "id": "FkrhJ0M6jvKg",
        "outputId": "087be3c2-b0fe-4064-e4c3-1b17d09a93e5"
      },
      "outputs": [
        {
          "data": {
            "text/plain": [
              "3775.2581813555653"
            ]
          },
          "execution_count": 86,
          "metadata": {},
          "output_type": "execute_result"
        }
      ],
      "source": [
        "import xgboost as xgb;\n",
        "\n",
        "xgb_reg = xgb.XGBRegressor(objective=\"reg:squarederror\", random_state=42);\n",
        "\n",
        "xgb_reg.fit(X_train, y_train);\n",
        "predictions = xgb_reg.predict(X_train);\n",
        "xgb_mse = mean_squared_error(y_train, predictions);\n",
        "xgb_rmse = np.sqrt(xgb_mse);\n",
        "xgb_rmse"
      ]
    },
    {
      "cell_type": "code",
      "execution_count": 88,
      "id": "57JyV3Iqkutj",
      "metadata": {
        "colab": {
          "base_uri": "https://localhost:8080/"
        },
        "id": "57JyV3Iqkutj",
        "outputId": "73b1960c-efc1-455d-ed69-2861dc201449"
      },
      "outputs": [
        {
          "name": "stdout",
          "output_type": "stream",
          "text": [
            "Scores: [4560.90682506 4859.96901092 3476.87220047 3842.68652048 4690.30773161\n",
            " 4634.02226328 5717.98099873 5128.21049484 4726.55568045 4623.63720792]\n",
            "Mean: 4626.114893375887\n",
            "Standard deviation: 587.5379090550465\n"
          ]
        }
      ],
      "source": [
        "xgb_scores = cross_val_score(xgb_reg, X_train, y_train, scoring=\"neg_mean_squared_error\", cv=10)\n",
        "xgb_rmse_scores=np.sqrt(-xgb_scores);\n",
        "display_scores(xgb_rmse_scores)"
      ]
    },
    {
      "cell_type": "markdown",
      "id": "HRjQZ4yrj1r4",
      "metadata": {
        "id": "HRjQZ4yrj1r4"
      },
      "source": [
        " \n",
        "La media de la validación cruzada de XGBoost ha sido el mejor resultado de todos los modelos, superando la media del modelo Random Forest. Siendo similar al modelo Random Forest, XGBoost se va construyendo secuencialmente en vez de paralelamente. Se debe a que el refuerzo es un aprendizaje iterativo, lo que significa que el modelo predice algo inicialmente y autoanaliza sus errores como un algoritmo de predicción y da más peso a los puntos de datos en los que hizo una predicción errónea en la siguiente iteración. Ese aprendizaje inicial se consigue aplicando el descenso de gradiente (de ahí su nombre eXtremeGradientBoost). \n",
        "\n",
        "Un modelo de este tipo, que evita que se produzcan predicciones al azar, es fiable la mayoría de las veces. "
      ]
    },
    {
      "cell_type": "markdown",
      "id": "FDxZlR5bj5fK",
      "metadata": {
        "id": "FDxZlR5bj5fK"
      },
      "source": [
        "Finalmente se realiza el test con el modelo que ha dado un mejor resultado, XGBoost:"
      ]
    },
    {
      "cell_type": "code",
      "execution_count": 89,
      "id": "kD59B6Ebj2az",
      "metadata": {
        "id": "kD59B6Ebj2az"
      },
      "outputs": [],
      "source": [
        "y_test= X_test[\"charges\"].copy()\n",
        "X_test = X_test.drop(\"charges\", axis=1)"
      ]
    },
    {
      "cell_type": "code",
      "execution_count": 90,
      "id": "gisms7LtkBXt",
      "metadata": {
        "colab": {
          "base_uri": "https://localhost:8080/"
        },
        "id": "gisms7LtkBXt",
        "outputId": "61ad9999-d3c7-4bc3-c9c1-5d54b4d98db6"
      },
      "outputs": [
        {
          "data": {
            "text/plain": [
              "4407.903300931473"
            ]
          },
          "execution_count": 90,
          "metadata": {},
          "output_type": "execute_result"
        }
      ],
      "source": [
        "final_predictions = xgb_reg.predict(X_test);\n",
        "final_mse = mean_squared_error(y_test, final_predictions);\n",
        "final_rmse =np.sqrt(final_mse);\n",
        "final_rmse"
      ]
    }
  ],
  "metadata": {
    "colab": {
      "provenance": []
    },
    "kernelspec": {
      "display_name": "Python 3",
      "language": "python",
      "name": "python3"
    },
    "language_info": {
      "codemirror_mode": {
        "name": "ipython",
        "version": 3
      },
      "file_extension": ".py",
      "mimetype": "text/x-python",
      "name": "python",
      "nbconvert_exporter": "python",
      "pygments_lexer": "ipython3",
      "version": "3.10.10"
    },
    "vscode": {
      "interpreter": {
        "hash": "3001e88701c26b35218784c045bd01b803cf784a6cbf3a28aa1bf343dc597e3e"
      }
    }
  },
  "nbformat": 4,
  "nbformat_minor": 5
}
